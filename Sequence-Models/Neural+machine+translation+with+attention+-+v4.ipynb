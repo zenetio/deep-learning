{
 "cells": [
  {
   "cell_type": "markdown",
   "metadata": {},
   "source": [
    "# Neural Machine Translation\n",
    "\n",
    "Welcome to your first programming assignment for this week! \n",
    "\n",
    "You will build a Neural Machine Translation (NMT) model to translate human readable dates (\"25th of June, 2009\") into machine readable dates (\"2009-06-25\"). You will do this using an attention model, one of the most sophisticated sequence to sequence models. \n",
    "\n",
    "This notebook was produced together with NVIDIA's Deep Learning Institute. \n",
    "\n",
    "Let's load all the packages you will need for this assignment."
   ]
  },
  {
   "cell_type": "code",
   "execution_count": 4,
   "metadata": {
    "collapsed": true
   },
   "outputs": [],
   "source": [
    "from keras.layers import Bidirectional, Concatenate, Permute, Dot, Input, LSTM, Multiply\n",
    "from keras.layers import RepeatVector, Dense, Activation, Lambda\n",
    "from keras.optimizers import Adam\n",
    "from keras.utils import to_categorical\n",
    "from keras.models import load_model, Model\n",
    "import keras.backend as K\n",
    "import numpy as np\n",
    "\n",
    "from faker import Faker\n",
    "import random\n",
    "from tqdm import tqdm\n",
    "from babel.dates import format_date\n",
    "from scripts.nmt_utils import *\n",
    "import matplotlib.pyplot as plt\n",
    "%matplotlib inline"
   ]
  },
  {
   "cell_type": "markdown",
   "metadata": {},
   "source": [
    "## 1 - Translating human readable dates into machine readable dates\n",
    "\n",
    "The model you will build here could be used to translate from one language to another, such as translating from English to Hindi. However, language translation requires massive datasets and usually takes days of training on GPUs. To give you a place to experiment with these models even without using massive datasets, we will instead use a simpler \"date translation\" task. \n",
    "\n",
    "The network will input a date written in a variety of possible formats (*e.g. \"the 29th of August 1958\", \"03/30/1968\", \"24 JUNE 1987\"*) and translate them into standardized, machine readable dates (*e.g. \"1958-08-29\", \"1968-03-30\", \"1987-06-24\"*). We will have the network learn to output dates in the common machine-readable format YYYY-MM-DD. \n",
    "\n",
    "\n",
    "\n",
    "<!-- \n",
    "Take a look at [nmt_utils.py](./nmt_utils.py) to see all the formatting. Count and figure out how the formats work, you will need this knowledge later. !--> "
   ]
  },
  {
   "cell_type": "markdown",
   "metadata": {},
   "source": [
    "### 1.1 - Dataset\n",
    "\n",
    "We will train the model on a dataset of 10000 human readable dates and their equivalent, standardized, machine readable dates. Let's run the following cells to load the dataset and print some examples. "
   ]
  },
  {
   "cell_type": "code",
   "execution_count": 5,
   "metadata": {},
   "outputs": [
    {
     "name": "stderr",
     "output_type": "stream",
     "text": [
      "100%|█████████████████████████████████████████████████████████████████████████| 10000/10000 [00:00<00:00, 19698.95it/s]\n"
     ]
    }
   ],
   "source": [
    "m = 10000\n",
    "dataset, human_vocab, machine_vocab, inv_machine_vocab = load_dataset(m)"
   ]
  },
  {
   "cell_type": "code",
   "execution_count": 6,
   "metadata": {},
   "outputs": [
    {
     "data": {
      "text/plain": [
       "[('9 may 1998', '1998-05-09'),\n",
       " ('10.09.70', '1970-09-10'),\n",
       " ('4/28/90', '1990-04-28'),\n",
       " ('thursday january 26 1995', '1995-01-26'),\n",
       " ('monday march 7 1983', '1983-03-07'),\n",
       " ('sunday may 22 1988', '1988-05-22'),\n",
       " ('tuesday july 8 2008', '2008-07-08'),\n",
       " ('08 sep 1999', '1999-09-08'),\n",
       " ('1 jan 1981', '1981-01-01'),\n",
       " ('monday may 22 1995', '1995-05-22')]"
      ]
     },
     "execution_count": 6,
     "metadata": {},
     "output_type": "execute_result"
    }
   ],
   "source": [
    "dataset[:10]"
   ]
  },
  {
   "cell_type": "markdown",
   "metadata": {},
   "source": [
    "You've loaded:\n",
    "- `dataset`: a list of tuples of (human readable date, machine readable date)\n",
    "- `human_vocab`: a python dictionary mapping all characters used in the human readable dates to an integer-valued index \n",
    "- `machine_vocab`: a python dictionary mapping all characters used in machine readable dates to an integer-valued index. These indices are not necessarily consistent with `human_vocab`. \n",
    "- `inv_machine_vocab`: the inverse dictionary of `machine_vocab`, mapping from indices back to characters. \n",
    "\n",
    "Let's preprocess the data and map the raw text data into the index values. We will also use Tx=30 (which we assume is the maximum length of the human readable date; if we get a longer input, we would have to truncate it) and Ty=10 (since \"YYYY-MM-DD\" is 10 characters long). "
   ]
  },
  {
   "cell_type": "code",
   "execution_count": 7,
   "metadata": {},
   "outputs": [
    {
     "name": "stdout",
     "output_type": "stream",
     "text": [
      "X.shape: (10000, 30)\n",
      "Y.shape: (10000, 10)\n",
      "Xoh.shape: (10000, 30, 37)\n",
      "Yoh.shape: (10000, 10, 11)\n"
     ]
    }
   ],
   "source": [
    "Tx = 30\n",
    "Ty = 10\n",
    "X, Y, Xoh, Yoh = preprocess_data(dataset, human_vocab, machine_vocab, Tx, Ty)\n",
    "\n",
    "print(\"X.shape:\", X.shape)\n",
    "print(\"Y.shape:\", Y.shape)\n",
    "print(\"Xoh.shape:\", Xoh.shape)\n",
    "print(\"Yoh.shape:\", Yoh.shape)"
   ]
  },
  {
   "cell_type": "markdown",
   "metadata": {},
   "source": [
    "You now have:\n",
    "- `X`: a processed version of the human readable dates in the training set, where each character is replaced by an index mapped to the character via `human_vocab`. Each date is further padded to $T_x$ values with a special character (< pad >). `X.shape = (m, Tx)`\n",
    "- `Y`: a processed version of the machine readable dates in the training set, where each character is replaced by the index it is mapped to in `machine_vocab`. You should have `Y.shape = (m, Ty)`. \n",
    "- `Xoh`: one-hot version of `X`, the \"1\" entry's index is mapped to the character thanks to `human_vocab`. `Xoh.shape = (m, Tx, len(human_vocab))`\n",
    "- `Yoh`: one-hot version of `Y`, the \"1\" entry's index is mapped to the character thanks to `machine_vocab`. `Yoh.shape = (m, Tx, len(machine_vocab))`. Here, `len(machine_vocab) = 11` since there are 11 characters ('-' as well as 0-9). \n"
   ]
  },
  {
   "cell_type": "markdown",
   "metadata": {},
   "source": [
    "Lets also look at some examples of preprocessed training examples. Feel free to play with `index` in the cell below to navigate the dataset and see how source/target dates are preprocessed. "
   ]
  },
  {
   "cell_type": "code",
   "execution_count": 8,
   "metadata": {},
   "outputs": [
    {
     "name": "stdout",
     "output_type": "stream",
     "text": [
      "Source date: 9 may 1998\n",
      "Target date: 1998-05-09\n",
      "\n",
      "Source after preprocessing (indices): [12  0 24 13 34  0  4 12 12 11 36 36 36 36 36 36 36 36 36 36 36 36 36 36 36\n",
      " 36 36 36 36 36]\n",
      "Target after preprocessing (indices): [ 2 10 10  9  0  1  6  0  1 10]\n",
      "\n",
      "Source after preprocessing (one-hot): [[ 0.  0.  0. ...,  0.  0.  0.]\n",
      " [ 1.  0.  0. ...,  0.  0.  0.]\n",
      " [ 0.  0.  0. ...,  0.  0.  0.]\n",
      " ..., \n",
      " [ 0.  0.  0. ...,  0.  0.  1.]\n",
      " [ 0.  0.  0. ...,  0.  0.  1.]\n",
      " [ 0.  0.  0. ...,  0.  0.  1.]]\n",
      "Target after preprocessing (one-hot): [[ 0.  0.  1.  0.  0.  0.  0.  0.  0.  0.  0.]\n",
      " [ 0.  0.  0.  0.  0.  0.  0.  0.  0.  0.  1.]\n",
      " [ 0.  0.  0.  0.  0.  0.  0.  0.  0.  0.  1.]\n",
      " [ 0.  0.  0.  0.  0.  0.  0.  0.  0.  1.  0.]\n",
      " [ 1.  0.  0.  0.  0.  0.  0.  0.  0.  0.  0.]\n",
      " [ 0.  1.  0.  0.  0.  0.  0.  0.  0.  0.  0.]\n",
      " [ 0.  0.  0.  0.  0.  0.  1.  0.  0.  0.  0.]\n",
      " [ 1.  0.  0.  0.  0.  0.  0.  0.  0.  0.  0.]\n",
      " [ 0.  1.  0.  0.  0.  0.  0.  0.  0.  0.  0.]\n",
      " [ 0.  0.  0.  0.  0.  0.  0.  0.  0.  0.  1.]]\n"
     ]
    }
   ],
   "source": [
    "index = 0\n",
    "print(\"Source date:\", dataset[index][0])\n",
    "print(\"Target date:\", dataset[index][1])\n",
    "print()\n",
    "print(\"Source after preprocessing (indices):\", X[index])\n",
    "print(\"Target after preprocessing (indices):\", Y[index])\n",
    "print()\n",
    "print(\"Source after preprocessing (one-hot):\", Xoh[index])\n",
    "print(\"Target after preprocessing (one-hot):\", Yoh[index])"
   ]
  },
  {
   "cell_type": "markdown",
   "metadata": {},
   "source": [
    "## 2 - Neural machine translation with attention\n",
    "\n",
    "If you had to translate a book's paragraph from French to English, you would not read the whole paragraph, then close the book and translate. Even during the translation process, you would read/re-read and focus on the parts of the French paragraph corresponding to the parts of the English you are writing down. \n",
    "\n",
    "The attention mechanism tells a Neural Machine Translation model where it should pay attention to at any step. \n",
    "\n",
    "\n",
    "### 2.1 - Attention mechanism\n",
    "\n",
    "In this part, you will implement the attention mechanism presented in the lecture videos. Here is a figure to remind you how the model works. The diagram on the left shows the attention model. The diagram on the right shows what one \"Attention\" step does to calculate the attention variables $\\alpha^{\\langle t, t' \\rangle}$, which are used to compute the context variable $context^{\\langle t \\rangle}$ for each timestep in the output ($t=1, \\ldots, T_y$). \n",
    "\n",
    "<table>\n",
    "<td> \n",
    "<img src=\"images/attn_model.png\" style=\"width:500;height:500px;\"> <br>\n",
    "</td> \n",
    "<td> \n",
    "<img src=\"images/attn_mechanism.png\" style=\"width:500;height:500px;\"> <br>\n",
    "</td> \n",
    "</table>\n",
    "<caption><center> **Figure 1**: Neural machine translation with attention</center></caption>\n"
   ]
  },
  {
   "cell_type": "markdown",
   "metadata": {},
   "source": [
    "\n",
    "Here are some properties of the model that you may notice: \n",
    "\n",
    "- There are two separate LSTMs in this model (see diagram on the left). Because the one at the bottom of the picture is a Bi-directional LSTM and comes *before* the attention mechanism, we will call it *pre-attention* Bi-LSTM. The LSTM at the top of the diagram comes *after* the attention mechanism, so we will call it the *post-attention* LSTM. The pre-attention Bi-LSTM goes through $T_x$ time steps; the post-attention LSTM goes through $T_y$ time steps. \n",
    "\n",
    "- The post-attention LSTM passes $s^{\\langle t \\rangle}, c^{\\langle t \\rangle}$ from one time step to the next. In the lecture videos, we were using only a basic RNN for the post-activation sequence model, so the state captured by the RNN output activations $s^{\\langle t\\rangle}$. But since we are using an LSTM here, the LSTM has both the output activation $s^{\\langle t\\rangle}$ and the hidden cell state $c^{\\langle t\\rangle}$. However, unlike previous text generation examples (such as Dinosaurus in week 1), in this model the post-activation LSTM at time $t$ does will not take the specific generated $y^{\\langle t-1 \\rangle}$ as input; it only takes $s^{\\langle t\\rangle}$ and $c^{\\langle t\\rangle}$ as input. We have designed the model this way, because (unlike language generation where adjacent characters are highly correlated) there isn't as strong a dependency between the previous character and the next character in a YYYY-MM-DD date. \n",
    "\n",
    "- We use $a^{\\langle t \\rangle} = [\\overrightarrow{a}^{\\langle t \\rangle}; \\overleftarrow{a}^{\\langle t \\rangle}]$ to represent the concatenation of the activations of both the forward-direction and backward-directions of the pre-attention Bi-LSTM. \n",
    "\n",
    "- The diagram on the right uses a `RepeatVector` node to copy $s^{\\langle t-1 \\rangle}$'s value $T_x$ times, and then `Concatenation` to concatenate $s^{\\langle t-1 \\rangle}$ and $a^{\\langle t \\rangle}$ to compute $e^{\\langle t, t'}$, which is then passed through a softmax to compute $\\alpha^{\\langle t, t' \\rangle}$. We'll explain how to use `RepeatVector` and `Concatenation` in Keras below. \n",
    "\n",
    "Lets implement this model. You will start by implementing two functions: `one_step_attention()` and `model()`.\n",
    "\n",
    "**1) `one_step_attention()`**: At step $t$, given all the hidden states of the Bi-LSTM ($[a^{<1>},a^{<2>}, ..., a^{<T_x>}]$) and the previous hidden state of the second LSTM ($s^{<t-1>}$), `one_step_attention()` will compute the attention weights ($[\\alpha^{<t,1>},\\alpha^{<t,2>}, ..., \\alpha^{<t,T_x>}]$) and output the context vector (see Figure  1 (right) for details):\n",
    "$$context^{<t>} = \\sum_{t' = 0}^{T_x} \\alpha^{<t,t'>}a^{<t'>}\\tag{1}$$ \n",
    "\n",
    "Note that we are denoting the attention in this notebook $context^{\\langle t \\rangle}$. In the lecture videos, the context was denoted $c^{\\langle t \\rangle}$, but here we are calling it $context^{\\langle t \\rangle}$ to avoid confusion with the (post-attention) LSTM's internal memory cell variable, which is sometimes also denoted $c^{\\langle t \\rangle}$. \n",
    "  \n",
    "**2) `model()`**: Implements the entire model. It first runs the input through a Bi-LSTM to get back $[a^{<1>},a^{<2>}, ..., a^{<T_x>}]$. Then, it calls `one_step_attention()` $T_y$ times (`for` loop). At each iteration of this loop, it gives the computed context vector $c^{<t>}$ to the second LSTM, and runs the output of the LSTM through a dense layer with softmax activation to generate a prediction $\\hat{y}^{<t>}$. \n",
    "\n",
    "\n",
    "\n",
    "**Exercise**: Implement `one_step_attention()`. The function `model()` will call the layers in `one_step_attention()` $T_y$ using a for-loop, and it is important that all $T_y$ copies have the same weights. I.e., it should not re-initiaiize the weights every time. In other words, all $T_y$ steps should have shared weights. Here's how you can implement layers with shareable weights in Keras:\n",
    "1. Define the layer objects (as global variables for examples).\n",
    "2. Call these objects when propagating the input.\n",
    "\n",
    "We have defined the layers you need as global variables. Please run the following cells to create them. Please check the Keras documentation to make sure you understand what these layers are: [RepeatVector()](https://keras.io/layers/core/#repeatvector), [Concatenate()](https://keras.io/layers/merge/#concatenate), [Dense()](https://keras.io/layers/core/#dense), [Activation()](https://keras.io/layers/core/#activation), [Dot()](https://keras.io/layers/merge/#dot)."
   ]
  },
  {
   "cell_type": "code",
   "execution_count": 9,
   "metadata": {
    "collapsed": true
   },
   "outputs": [],
   "source": [
    "# Defined shared layers as global variables\n",
    "repeator = RepeatVector(Tx)\n",
    "concatenator = Concatenate(axis=-1)\n",
    "densor1 = Dense(10, activation = \"tanh\")\n",
    "densor2 = Dense(1, activation = \"relu\")\n",
    "activator = Activation(softmax, name='attention_weights') # We are using a custom softmax(axis = 1) loaded in this notebook\n",
    "dotor = Dot(axes = 1)"
   ]
  },
  {
   "cell_type": "markdown",
   "metadata": {},
   "source": [
    "Now you can use these layers to implement `one_step_attention()`. In order to propagate a Keras tensor object X through one of these layers, use `layer(X)` (or `layer([X,Y])` if it requires multiple inputs.), e.g. `densor(X)` will propagate X through the `Dense(1)` layer defined above."
   ]
  },
  {
   "cell_type": "code",
   "execution_count": 44,
   "metadata": {
    "collapsed": true
   },
   "outputs": [],
   "source": [
    "# GRADED FUNCTION: one_step_attention\n",
    "\n",
    "def one_step_attention(a, s_prev):\n",
    "    \"\"\"\n",
    "    Performs one step of attention: Outputs a context vector computed as a dot product of the attention weights\n",
    "    \"alphas\" and the hidden states \"a\" of the Bi-LSTM.\n",
    "    \n",
    "    Arguments:\n",
    "    a -- hidden state output of the Bi-LSTM, numpy-array of shape (m, Tx, 2*n_a)\n",
    "    s_prev -- previous hidden state of the (post-attention) LSTM, numpy-array of shape (m, n_s)\n",
    "    \n",
    "    Returns:\n",
    "    context -- context vector, input of the next (post-attetion) LSTM cell\n",
    "    \"\"\"\n",
    "    \n",
    "    ### START CODE HERE ###\n",
    "    # Use repeator to repeat s_prev to be of shape (m, Tx, n_s) so that you can concatenate it with all hidden states \"a\" (≈ 1 line)\n",
    "    s_prev = repeator(s_prev)\n",
    "    # Use concatenator to concatenate a and s_prev on the last axis (≈ 1 line)\n",
    "    concat = concatenator([a, s_prev])\n",
    "    # Use densor1 to propagate concat through a small fully-connected neural network to compute the \"intermediate energies\" variable e. (≈1 lines)\n",
    "    e = densor1(concat)\n",
    "    # Use densor2 to propagate e through a small fully-connected neural network to compute the \"energies\" variable energies. (≈1 lines)\n",
    "    energies = densor2(e)\n",
    "    # Use \"activator\" on \"energies\" to compute the attention weights \"alphas\" (≈ 1 line)\n",
    "    alphas = activator(energies)\n",
    "    # Use dotor together with \"alphas\" and \"a\" to compute the context vector to be given to the next (post-attention) LSTM-cell (≈ 1 line)\n",
    "    context = dotor([alphas, a])\n",
    "    ### END CODE HERE ###\n",
    "    \n",
    "    return context"
   ]
  },
  {
   "cell_type": "markdown",
   "metadata": {},
   "source": [
    "You will be able to check the expected output of `one_step_attention()` after you've coded the `model()` function."
   ]
  },
  {
   "cell_type": "markdown",
   "metadata": {},
   "source": [
    "**Exercise**: Implement `model()` as explained in figure 2 and the text above. Again, we have defined global layers that will share weights to be used in `model()`."
   ]
  },
  {
   "cell_type": "code",
   "execution_count": 45,
   "metadata": {
    "collapsed": true
   },
   "outputs": [],
   "source": [
    "n_a = 32\n",
    "n_s = 64\n",
    "post_activation_LSTM_cell = LSTM(n_s, return_state = True)\n",
    "output_layer = Dense(len(machine_vocab), activation=softmax)"
   ]
  },
  {
   "cell_type": "markdown",
   "metadata": {},
   "source": [
    "Now you can use these layers $T_y$ times in a `for` loop to generate the outputs, and their parameters will not be reinitialized. You will have to carry out the following steps: \n",
    "\n",
    "1. Propagate the input into a [Bidirectional](https://keras.io/layers/wrappers/#bidirectional) [LSTM](https://keras.io/layers/recurrent/#lstm)\n",
    "2. Iterate for $t = 0, \\dots, T_y-1$: \n",
    "    1. Call `one_step_attention()` on $[\\alpha^{<t,1>},\\alpha^{<t,2>}, ..., \\alpha^{<t,T_x>}]$ and $s^{<t-1>}$ to get the context vector $context^{<t>}$.\n",
    "    2. Give $context^{<t>}$ to the post-attention LSTM cell. Remember pass in the previous hidden-state $s^{\\langle t-1\\rangle}$ and cell-states $c^{\\langle t-1\\rangle}$ of this LSTM using `initial_state= [previous hidden state, previous cell state]`. Get back the new hidden state $s^{<t>}$ and the new cell state $c^{<t>}$.\n",
    "    3. Apply a softmax layer to $s^{<t>}$, get the output. \n",
    "    4. Save the output by adding it to the list of outputs.\n",
    "\n",
    "3. Create your Keras model instance, it should have three inputs (\"inputs\", $s^{<0>}$ and $c^{<0>}$) and output the list of \"outputs\"."
   ]
  },
  {
   "cell_type": "code",
   "execution_count": 46,
   "metadata": {
    "collapsed": true
   },
   "outputs": [],
   "source": [
    "# GRADED FUNCTION: model\n",
    "\n",
    "def model(Tx, Ty, n_a, n_s, human_vocab_size, machine_vocab_size):\n",
    "    \"\"\"\n",
    "    Arguments:\n",
    "    Tx -- length of the input sequence\n",
    "    Ty -- length of the output sequence\n",
    "    n_a -- hidden state size of the Bi-LSTM\n",
    "    n_s -- hidden state size of the post-attention LSTM\n",
    "    human_vocab_size -- size of the python dictionary \"human_vocab\"\n",
    "    machine_vocab_size -- size of the python dictionary \"machine_vocab\"\n",
    "\n",
    "    Returns:\n",
    "    model -- Keras model instance\n",
    "    \"\"\"\n",
    "    \n",
    "    # Define the inputs of your model with a shape (Tx,)\n",
    "    # Define s0 and c0, initial hidden state for the decoder LSTM of shape (n_s,)\n",
    "    X = Input(shape=(Tx, human_vocab_size))\n",
    "    s0 = Input(shape=(n_s,), name='s0')\n",
    "    c0 = Input(shape=(n_s,), name='c0')\n",
    "    s = s0\n",
    "    c = c0\n",
    "    \n",
    "    # Initialize empty list of outputs\n",
    "    outputs = []\n",
    "    \n",
    "    ### START CODE HERE ###\n",
    "    \n",
    "    # Step 1: Define your pre-attention Bi-LSTM. Remember to use return_sequences=True. (≈ 1 line)\n",
    "    a = Bidirectional(LSTM(n_a, return_sequences=True), merge_mode='concat')(X)\n",
    "    \n",
    "    # Step 2: Iterate for Ty steps\n",
    "    for t in range(Ty):\n",
    "    \n",
    "        # Step 2.A: Perform one step of the attention mechanism to get back the context vector at step t (≈ 1 line)\n",
    "        context = one_step_attention(a, s)\n",
    "        \n",
    "        # Step 2.B: Apply the post-attention LSTM cell to the \"context\" vector.\n",
    "        # Don't forget to pass: initial_state = [hidden state, cell state] (≈ 1 line)\n",
    "        s, _, c = post_activation_LSTM_cell(context, initial_state=[s, c])\n",
    "        \n",
    "        # Step 2.C: Apply Dense layer to the hidden state output of the post-attention LSTM (≈ 1 line)\n",
    "        out = output_layer(s)\n",
    "        \n",
    "        # Step 2.D: Append \"out\" to the \"outputs\" list (≈ 1 line)\n",
    "        outputs.append(out)\n",
    "    \n",
    "    # Step 3: Create model instance taking three inputs and returning the list of outputs. (≈ 1 line)\n",
    "    model = Model(inputs=(X, s0, c0), outputs=outputs, name='model')\n",
    "    \n",
    "    ### END CODE HERE ###\n",
    "    \n",
    "    return model"
   ]
  },
  {
   "cell_type": "markdown",
   "metadata": {},
   "source": [
    "Run the following cell to create your model."
   ]
  },
  {
   "cell_type": "code",
   "execution_count": 47,
   "metadata": {
    "collapsed": true
   },
   "outputs": [],
   "source": [
    "model = model(Tx, Ty, n_a, n_s, len(human_vocab), len(machine_vocab))"
   ]
  },
  {
   "cell_type": "markdown",
   "metadata": {},
   "source": [
    "Let's get a summary of the model to check if it matches the expected output."
   ]
  },
  {
   "cell_type": "code",
   "execution_count": 48,
   "metadata": {},
   "outputs": [
    {
     "name": "stdout",
     "output_type": "stream",
     "text": [
      "____________________________________________________________________________________________________\n",
      "Layer (type)                     Output Shape          Param #     Connected to                     \n",
      "====================================================================================================\n",
      "input_12 (InputLayer)            (None, 30, 37)        0                                            \n",
      "____________________________________________________________________________________________________\n",
      "s0 (InputLayer)                  (None, 64)            0                                            \n",
      "____________________________________________________________________________________________________\n",
      "bidirectional_12 (Bidirectional) (None, 30, 64)        17920       input_12[0][0]                   \n",
      "____________________________________________________________________________________________________\n",
      "repeat_vector_1 (RepeatVector)   (None, 30, 64)        0           s0[0][0]                         \n",
      "                                                                   lstm_18[0][0]                    \n",
      "                                                                   lstm_18[1][0]                    \n",
      "                                                                   lstm_18[2][0]                    \n",
      "                                                                   lstm_18[3][0]                    \n",
      "                                                                   lstm_18[4][0]                    \n",
      "                                                                   lstm_18[5][0]                    \n",
      "                                                                   lstm_18[6][0]                    \n",
      "                                                                   lstm_18[7][0]                    \n",
      "                                                                   lstm_18[8][0]                    \n",
      "____________________________________________________________________________________________________\n",
      "concatenate_1 (Concatenate)      (None, 30, 128)       0           bidirectional_12[0][0]           \n",
      "                                                                   repeat_vector_1[10][0]           \n",
      "                                                                   bidirectional_12[0][0]           \n",
      "                                                                   repeat_vector_1[11][0]           \n",
      "                                                                   bidirectional_12[0][0]           \n",
      "                                                                   repeat_vector_1[12][0]           \n",
      "                                                                   bidirectional_12[0][0]           \n",
      "                                                                   repeat_vector_1[13][0]           \n",
      "                                                                   bidirectional_12[0][0]           \n",
      "                                                                   repeat_vector_1[14][0]           \n",
      "                                                                   bidirectional_12[0][0]           \n",
      "                                                                   repeat_vector_1[15][0]           \n",
      "                                                                   bidirectional_12[0][0]           \n",
      "                                                                   repeat_vector_1[16][0]           \n",
      "                                                                   bidirectional_12[0][0]           \n",
      "                                                                   repeat_vector_1[17][0]           \n",
      "                                                                   bidirectional_12[0][0]           \n",
      "                                                                   repeat_vector_1[18][0]           \n",
      "                                                                   bidirectional_12[0][0]           \n",
      "                                                                   repeat_vector_1[19][0]           \n",
      "____________________________________________________________________________________________________\n",
      "dense_1 (Dense)                  (None, 30, 10)        1290        concatenate_1[8][0]              \n",
      "                                                                   concatenate_1[9][0]              \n",
      "                                                                   concatenate_1[10][0]             \n",
      "                                                                   concatenate_1[11][0]             \n",
      "                                                                   concatenate_1[12][0]             \n",
      "                                                                   concatenate_1[13][0]             \n",
      "                                                                   concatenate_1[14][0]             \n",
      "                                                                   concatenate_1[15][0]             \n",
      "                                                                   concatenate_1[16][0]             \n",
      "                                                                   concatenate_1[17][0]             \n",
      "____________________________________________________________________________________________________\n",
      "dense_2 (Dense)                  (None, 30, 1)         11          dense_1[7][0]                    \n",
      "                                                                   dense_1[8][0]                    \n",
      "                                                                   dense_1[9][0]                    \n",
      "                                                                   dense_1[10][0]                   \n",
      "                                                                   dense_1[11][0]                   \n",
      "                                                                   dense_1[12][0]                   \n",
      "                                                                   dense_1[13][0]                   \n",
      "                                                                   dense_1[14][0]                   \n",
      "                                                                   dense_1[15][0]                   \n",
      "                                                                   dense_1[16][0]                   \n",
      "____________________________________________________________________________________________________\n",
      "attention_weights (Activation)   (None, 30, 1)         0           dense_2[7][0]                    \n",
      "                                                                   dense_2[8][0]                    \n",
      "                                                                   dense_2[9][0]                    \n",
      "                                                                   dense_2[10][0]                   \n",
      "                                                                   dense_2[11][0]                   \n",
      "                                                                   dense_2[12][0]                   \n",
      "                                                                   dense_2[13][0]                   \n",
      "                                                                   dense_2[14][0]                   \n",
      "                                                                   dense_2[15][0]                   \n",
      "                                                                   dense_2[16][0]                   \n",
      "____________________________________________________________________________________________________\n",
      "dot_1 (Dot)                      (None, 1, 64)         0           attention_weights[7][0]          \n",
      "                                                                   bidirectional_12[0][0]           \n",
      "                                                                   attention_weights[8][0]          \n",
      "                                                                   bidirectional_12[0][0]           \n",
      "                                                                   attention_weights[9][0]          \n",
      "                                                                   bidirectional_12[0][0]           \n",
      "                                                                   attention_weights[10][0]         \n",
      "                                                                   bidirectional_12[0][0]           \n",
      "                                                                   attention_weights[11][0]         \n",
      "                                                                   bidirectional_12[0][0]           \n",
      "                                                                   attention_weights[12][0]         \n",
      "                                                                   bidirectional_12[0][0]           \n",
      "                                                                   attention_weights[13][0]         \n",
      "                                                                   bidirectional_12[0][0]           \n",
      "                                                                   attention_weights[14][0]         \n",
      "                                                                   bidirectional_12[0][0]           \n",
      "                                                                   attention_weights[15][0]         \n",
      "                                                                   bidirectional_12[0][0]           \n",
      "                                                                   attention_weights[16][0]         \n",
      "                                                                   bidirectional_12[0][0]           \n",
      "____________________________________________________________________________________________________\n",
      "c0 (InputLayer)                  (None, 64)            0                                            \n",
      "____________________________________________________________________________________________________\n",
      "lstm_18 (LSTM)                   [(None, 64), (None, 6 33024       dot_1[6][0]                      \n",
      "                                                                   s0[0][0]                         \n",
      "                                                                   c0[0][0]                         \n",
      "                                                                   dot_1[7][0]                      \n",
      "                                                                   lstm_18[0][0]                    \n",
      "                                                                   lstm_18[0][2]                    \n",
      "                                                                   dot_1[8][0]                      \n",
      "                                                                   lstm_18[1][0]                    \n",
      "                                                                   lstm_18[1][2]                    \n",
      "                                                                   dot_1[9][0]                      \n",
      "                                                                   lstm_18[2][0]                    \n",
      "                                                                   lstm_18[2][2]                    \n",
      "                                                                   dot_1[10][0]                     \n",
      "                                                                   lstm_18[3][0]                    \n",
      "                                                                   lstm_18[3][2]                    \n",
      "                                                                   dot_1[11][0]                     \n",
      "                                                                   lstm_18[4][0]                    \n",
      "                                                                   lstm_18[4][2]                    \n",
      "                                                                   dot_1[12][0]                     \n",
      "                                                                   lstm_18[5][0]                    \n",
      "                                                                   lstm_18[5][2]                    \n",
      "                                                                   dot_1[13][0]                     \n",
      "                                                                   lstm_18[6][0]                    \n",
      "                                                                   lstm_18[6][2]                    \n",
      "                                                                   dot_1[14][0]                     \n",
      "                                                                   lstm_18[7][0]                    \n",
      "                                                                   lstm_18[7][2]                    \n",
      "                                                                   dot_1[15][0]                     \n",
      "                                                                   lstm_18[8][0]                    \n",
      "                                                                   lstm_18[8][2]                    \n",
      "____________________________________________________________________________________________________\n",
      "dense_9 (Dense)                  (None, 11)            715         lstm_18[0][0]                    \n",
      "                                                                   lstm_18[1][0]                    \n",
      "                                                                   lstm_18[2][0]                    \n",
      "                                                                   lstm_18[3][0]                    \n",
      "                                                                   lstm_18[4][0]                    \n",
      "                                                                   lstm_18[5][0]                    \n",
      "                                                                   lstm_18[6][0]                    \n",
      "                                                                   lstm_18[7][0]                    \n",
      "                                                                   lstm_18[8][0]                    \n",
      "                                                                   lstm_18[9][0]                    \n",
      "====================================================================================================\n",
      "Total params: 52,960\n",
      "Trainable params: 52,960\n",
      "Non-trainable params: 0\n",
      "____________________________________________________________________________________________________\n"
     ]
    }
   ],
   "source": [
    "model.summary()"
   ]
  },
  {
   "cell_type": "markdown",
   "metadata": {},
   "source": [
    "**Expected Output**:\n",
    "\n",
    "Here is the summary you should see\n",
    "<table>\n",
    "    <tr>\n",
    "        <td>\n",
    "            **Total params:**\n",
    "        </td>\n",
    "        <td>\n",
    "         52,960\n",
    "        </td>\n",
    "    </tr>\n",
    "        <tr>\n",
    "        <td>\n",
    "            **Trainable params:**\n",
    "        </td>\n",
    "        <td>\n",
    "         52,960\n",
    "        </td>\n",
    "    </tr>\n",
    "            <tr>\n",
    "        <td>\n",
    "            **Non-trainable params:**\n",
    "        </td>\n",
    "        <td>\n",
    "         0\n",
    "        </td>\n",
    "    </tr>\n",
    "                    <tr>\n",
    "        <td>\n",
    "            **bidirectional_1's output shape **\n",
    "        </td>\n",
    "        <td>\n",
    "         (None, 30, 64)  \n",
    "        </td>\n",
    "    </tr>\n",
    "    <tr>\n",
    "        <td>\n",
    "            **repeat_vector_1's output shape **\n",
    "        </td>\n",
    "        <td>\n",
    "         (None, 30, 64) \n",
    "        </td>\n",
    "    </tr>\n",
    "                <tr>\n",
    "        <td>\n",
    "            **concatenate_1's output shape **\n",
    "        </td>\n",
    "        <td>\n",
    "         (None, 30, 128) \n",
    "        </td>\n",
    "    </tr>\n",
    "            <tr>\n",
    "        <td>\n",
    "            **attention_weights's output shape **\n",
    "        </td>\n",
    "        <td>\n",
    "         (None, 30, 1)  \n",
    "        </td>\n",
    "    </tr>\n",
    "        <tr>\n",
    "        <td>\n",
    "            **dot_1's output shape **\n",
    "        </td>\n",
    "        <td>\n",
    "         (None, 1, 64)\n",
    "        </td>\n",
    "    </tr>\n",
    "           <tr>\n",
    "        <td>\n",
    "            **dense_3's output shape **\n",
    "        </td>\n",
    "        <td>\n",
    "         (None, 11) \n",
    "        </td>\n",
    "    </tr>\n",
    "</table>\n"
   ]
  },
  {
   "cell_type": "markdown",
   "metadata": {},
   "source": [
    "As usual, after creating your model in Keras, you need to compile it and define what loss, optimizer and metrics your are want to use. Compile your model using `categorical_crossentropy` loss, a custom [Adam](https://keras.io/optimizers/#adam) [optimizer](https://keras.io/optimizers/#usage-of-optimizers) (`learning rate = 0.005`, $\\beta_1 = 0.9$, $\\beta_2 = 0.999$, `decay = 0.01`)  and `['accuracy']` metrics:"
   ]
  },
  {
   "cell_type": "code",
   "execution_count": 50,
   "metadata": {
    "collapsed": true
   },
   "outputs": [],
   "source": [
    "### START CODE HERE ### (≈2 lines)\n",
    "opt = Adam(lr=0.005, beta_1=0.9, beta_2=0.999, decay=0.01)\n",
    "model.compile(loss='categorical_crossentropy', optimizer=opt, metrics=['accuracy'])\n",
    "### END CODE HERE ###"
   ]
  },
  {
   "cell_type": "markdown",
   "metadata": {},
   "source": [
    "The last step is to define all your inputs and outputs to fit the model:\n",
    "- You already have X of shape $(m = 10000, T_x = 30)$ containing the training examples.\n",
    "- You need to create `s0` and `c0` to initialize your `post_activation_LSTM_cell` with 0s.\n",
    "- Given the `model()` you coded, you need the \"outputs\" to be a list of 11 elements of shape (m, T_y). So that: `outputs[i][0], ..., outputs[i][Ty]` represent the true labels (characters) corresponding to the $i^{th}$ training example (`X[i]`). More generally, `outputs[i][j]` is the true label of the $j^{th}$ character in the $i^{th}$ training example."
   ]
  },
  {
   "cell_type": "code",
   "execution_count": 51,
   "metadata": {
    "collapsed": true
   },
   "outputs": [],
   "source": [
    "s0 = np.zeros((m, n_s))\n",
    "c0 = np.zeros((m, n_s))\n",
    "outputs = list(Yoh.swapaxes(0,1))"
   ]
  },
  {
   "cell_type": "markdown",
   "metadata": {},
   "source": [
    "Let's now fit the model and run it for one epoch."
   ]
  },
  {
   "cell_type": "code",
   "execution_count": 52,
   "metadata": {},
   "outputs": [
    {
     "name": "stdout",
     "output_type": "stream",
     "text": [
      "Epoch 1/1\n"
     ]
    },
    {
     "name": "stdout",
     "output_type": "stream",
     "text": [
      " 1600/10000 [===>..........................] - ETA: 1433s - loss: 24.0019 - dense_9_loss_1: 2.3902 - dense_9_loss_2: 2.4171 - dense_9_loss_3: 2.4042 - dense_9_loss_4: 2.3945 - dense_9_loss_5: 2.3966 - dense_9_loss_6: 2.4117 - dense_9_loss_7: 2.3990 - dense_9_loss_8: 2.3988 - dense_9_loss_9: 2.3925 - dense_9_loss_10: 2.3974 - dense_9_acc_1: 0.0100 - dense_9_acc_2: 0.0000e+00 - dense_9_acc_3: 0.0100 - dense_9_acc_4: 0.1500 - dense_9_acc_5: 0.0000e+00 - dense_9_acc_6: 0.0100 - dense_9_acc_7: 0.0600 - dense_9_acc_8: 0.0000e+00 - dense_9_acc_9: 0.0400 - dense_9_acc_10: 0.100 - ETA: 715s - loss: 23.8482 - dense_9_loss_1: 2.3831 - dense_9_loss_2: 2.4072 - dense_9_loss_3: 2.3988 - dense_9_loss_4: 2.3999 - dense_9_loss_5: 2.3543 - dense_9_loss_6: 2.3850 - dense_9_loss_7: 2.3942 - dense_9_loss_8: 2.3455 - dense_9_loss_9: 2.3789 - dense_9_loss_10: 2.4013 - dense_9_acc_1: 0.2650 - dense_9_acc_2: 0.0000e+00 - dense_9_acc_3: 0.1250 - dense_9_acc_4: 0.1450 - dense_9_acc_5: 0.1850 - dense_9_acc_6: 0.0850 - dense_9_acc_7: 0.0650 - dense_9_acc_8: 0.2900 - dense_9_acc_9: 0.0800 - dense_9_acc_10: 0.0850        - ETA: 475s - loss: 23.6638 - dense_9_loss_1: 2.3748 - dense_9_loss_2: 2.3970 - dense_9_loss_3: 2.3964 - dense_9_loss_4: 2.4068 - dense_9_loss_5: 2.2986 - dense_9_loss_6: 2.3532 - dense_9_loss_7: 2.3942 - dense_9_loss_8: 2.2737 - dense_9_loss_9: 2.3496 - dense_9_loss_10: 2.4196 - dense_9_acc_1: 0.2100 - dense_9_acc_2: 0.0000e+00 - dense_9_acc_3: 0.0867 - dense_9_acc_4: 0.1000 - dense_9_acc_5: 0.4533 - dense_9_acc_6: 0.0567 - dense_9_acc_7: 0.0433 - dense_9_acc_8: 0.5267 - dense_9_acc_9: 0.0533 - dense_9_acc_10: 0.05 - ETA: 355s - loss: 23.4229 - dense_9_loss_1: 2.3651 - dense_9_loss_2: 2.3856 - dense_9_loss_3: 2.3899 - dense_9_loss_4: 2.4150 - dense_9_loss_5: 2.2205 - dense_9_loss_6: 2.3100 - dense_9_loss_7: 2.4027 - dense_9_loss_8: 2.1691 - dense_9_loss_9: 2.3219 - dense_9_loss_10: 2.4431 - dense_9_acc_1: 0.1575 - dense_9_acc_2: 0.0000e+00 - dense_9_acc_3: 0.0650 - dense_9_acc_4: 0.0750 - dense_9_acc_5: 0.5900 - dense_9_acc_6: 0.0425 - dense_9_acc_7: 0.0325 - dense_9_acc_8: 0.6450 - dense_9_acc_9: 0.0400 - dense_9_acc_10: 0.04 - ETA: 283s - loss: 23.1576 - dense_9_loss_1: 2.3523 - dense_9_loss_2: 2.3747 - dense_9_loss_3: 2.3902 - dense_9_loss_4: 2.4294 - dense_9_loss_5: 2.1100 - dense_9_loss_6: 2.2532 - dense_9_loss_7: 2.4458 - dense_9_loss_8: 2.0170 - dense_9_loss_9: 2.2941 - dense_9_loss_10: 2.4910 - dense_9_acc_1: 0.1260 - dense_9_acc_2: 0.0000e+00 - dense_9_acc_3: 0.0520 - dense_9_acc_4: 0.0600 - dense_9_acc_5: 0.6720 - dense_9_acc_6: 0.0340 - dense_9_acc_7: 0.0260 - dense_9_acc_8: 0.7160 - dense_9_acc_9: 0.0320 - dense_9_acc_10: 0.03 - ETA: 235s - loss: 23.0163 - dense_9_loss_1: 2.3349 - dense_9_loss_2: 2.3681 - dense_9_loss_3: 2.4055 - dense_9_loss_4: 2.4791 - dense_9_loss_5: 1.9822 - dense_9_loss_6: 2.1816 - dense_9_loss_7: 2.5221 - dense_9_loss_8: 1.8516 - dense_9_loss_9: 2.2968 - dense_9_loss_10: 2.5944 - dense_9_acc_1: 0.1050 - dense_9_acc_2: 0.0000e+00 - dense_9_acc_3: 0.0433 - dense_9_acc_4: 0.0500 - dense_9_acc_5: 0.7267 - dense_9_acc_6: 0.0283 - dense_9_acc_7: 0.0217 - dense_9_acc_8: 0.7633 - dense_9_acc_9: 0.0267 - dense_9_acc_10: 0.02 - ETA: 201s - loss: 22.8926 - dense_9_loss_1: 2.3176 - dense_9_loss_2: 2.3537 - dense_9_loss_3: 2.4148 - dense_9_loss_4: 2.5251 - dense_9_loss_5: 1.8868 - dense_9_loss_6: 2.0913 - dense_9_loss_7: 2.6145 - dense_9_loss_8: 1.7423 - dense_9_loss_9: 2.2662 - dense_9_loss_10: 2.6803 - dense_9_acc_1: 0.0900 - dense_9_acc_2: 0.0000e+00 - dense_9_acc_3: 0.0371 - dense_9_acc_4: 0.0429 - dense_9_acc_5: 0.7657 - dense_9_acc_6: 0.0243 - dense_9_acc_7: 0.0186 - dense_9_acc_8: 0.7971 - dense_9_acc_9: 0.0229 - dense_9_acc_10: 0.02 - ETA: 175s - loss: 22.7690 - dense_9_loss_1: 2.3041 - dense_9_loss_2: 2.3337 - dense_9_loss_3: 2.4146 - dense_9_loss_4: 2.5490 - dense_9_loss_5: 1.8385 - dense_9_loss_6: 2.0119 - dense_9_loss_7: 2.6535 - dense_9_loss_8: 1.6948 - dense_9_loss_9: 2.2186 - dense_9_loss_10: 2.7503 - dense_9_acc_1: 0.0787 - dense_9_acc_2: 0.0450 - dense_9_acc_3: 0.0537 - dense_9_acc_4: 0.0537 - dense_9_acc_5: 0.6700 - dense_9_acc_6: 0.1187 - dense_9_acc_7: 0.0250 - dense_9_acc_8: 0.6975 - dense_9_acc_9: 0.0587 - dense_9_acc_10: 0.0362   - ETA: 156s - loss: 22.6615 - dense_9_loss_1: 2.2948 - dense_9_loss_2: 2.3099 - dense_9_loss_3: 2.4054 - dense_9_loss_4: 2.5656 - dense_9_loss_5: 1.8141 - dense_9_loss_6: 1.9542 - dense_9_loss_7: 2.6695 - dense_9_loss_8: 1.6762 - dense_9_loss_9: 2.1745 - dense_9_loss_10: 2.7973 - dense_9_acc_1: 0.0700 - dense_9_acc_2: 0.0856 - dense_9_acc_3: 0.0722 - dense_9_acc_4: 0.0556 - dense_9_acc_5: 0.5956 - dense_9_acc_6: 0.1878 - dense_9_acc_7: 0.0322 - dense_9_acc_8: 0.6200 - dense_9_acc_9: 0.0900 - dense_9_acc_10: 0.03 - ETA: 140s - loss: 22.5425 - dense_9_loss_1: 2.2867 - dense_9_loss_2: 2.2882 - dense_9_loss_3: 2.3976 - dense_9_loss_4: 2.5764 - dense_9_loss_5: 1.7987 - dense_9_loss_6: 1.9163 - dense_9_loss_7: 2.6686 - dense_9_loss_8: 1.6667 - dense_9_loss_9: 2.1471 - dense_9_loss_10: 2.7961 - dense_9_acc_1: 0.0630 - dense_9_acc_2: 0.1150 - dense_9_acc_3: 0.0910 - dense_9_acc_4: 0.0660 - dense_9_acc_5: 0.5360 - dense_9_acc_6: 0.2380 - dense_9_acc_7: 0.0420 - dense_9_acc_8: 0.5580 - dense_9_acc_9: 0.1060 - dense_9_acc_10: 0.04 - ETA: 126s - loss: 22.4356 - dense_9_loss_1: 2.2799 - dense_9_loss_2: 2.2674 - dense_9_loss_3: 2.3929 - dense_9_loss_4: 2.5789 - dense_9_loss_5: 1.7850 - dense_9_loss_6: 1.8923 - dense_9_loss_7: 2.6592 - dense_9_loss_8: 1.6572 - dense_9_loss_9: 2.1256 - dense_9_loss_10: 2.7973 - dense_9_acc_1: 0.0582 - dense_9_acc_2: 0.1364 - dense_9_acc_3: 0.1027 - dense_9_acc_4: 0.0709 - dense_9_acc_5: 0.4882 - dense_9_acc_6: 0.2809 - dense_9_acc_7: 0.0464 - dense_9_acc_8: 0.5082 - dense_9_acc_9: 0.1200 - dense_9_acc_10: 0.04 - ETA: 115s - loss: 22.3422 - dense_9_loss_1: 2.2744 - dense_9_loss_2: 2.2464 - dense_9_loss_3: 2.3850 - dense_9_loss_4: 2.5834 - dense_9_loss_5: 1.7690 - dense_9_loss_6: 1.8780 - dense_9_loss_7: 2.6568 - dense_9_loss_8: 1.6432 - dense_9_loss_9: 2.1133 - dense_9_loss_10: 2.7926 - dense_9_acc_1: 0.0900 - dense_9_acc_2: 0.1558 - dense_9_acc_3: 0.0942 - dense_9_acc_4: 0.0650 - dense_9_acc_5: 0.5308 - dense_9_acc_6: 0.2575 - dense_9_acc_7: 0.0425 - dense_9_acc_8: 0.5492 - dense_9_acc_9: 0.1100 - dense_9_acc_10: 0.04 - ETA: 106s - loss: 22.2488 - dense_9_loss_1: 2.2694 - dense_9_loss_2: 2.2256 - dense_9_loss_3: 2.3748 - dense_9_loss_4: 2.5924 - dense_9_loss_5: 1.7485 - dense_9_loss_6: 1.8709 - dense_9_loss_7: 2.6555 - dense_9_loss_8: 1.6234 - dense_9_loss_9: 2.1017 - dense_9_loss_10: 2.7866 - dense_9_acc_1: 0.0831 - dense_9_acc_2: 0.1438 - dense_9_acc_3: 0.0869 - dense_9_acc_4: 0.0600 - dense_9_acc_5: 0.5669 - dense_9_acc_6: 0.2377 - dense_9_acc_7: 0.0392 - dense_9_acc_8: 0.5838 - dense_9_acc_9: 0.1015 - dense_9_acc_10: 0.04 - ETA: 98s - loss: 22.1879 - dense_9_loss_1: 2.2630 - dense_9_loss_2: 2.2041 - dense_9_loss_3: 2.3732 - dense_9_loss_4: 2.6064 - dense_9_loss_5: 1.7239 - dense_9_loss_6: 1.8663 - dense_9_loss_7: 2.6635 - dense_9_loss_8: 1.5991 - dense_9_loss_9: 2.0968 - dense_9_loss_10: 2.7916 - dense_9_acc_1: 0.0771 - dense_9_acc_2: 0.1336 - dense_9_acc_3: 0.0807 - dense_9_acc_4: 0.0557 - dense_9_acc_5: 0.5979 - dense_9_acc_6: 0.2207 - dense_9_acc_7: 0.0364 - dense_9_acc_8: 0.6136 - dense_9_acc_9: 0.0943 - dense_9_acc_10: 0.0379 - ETA: 91s - loss: 22.1316 - dense_9_loss_1: 2.2581 - dense_9_loss_2: 2.1823 - dense_9_loss_3: 2.3632 - dense_9_loss_4: 2.6283 - dense_9_loss_5: 1.6969 - dense_9_loss_6: 1.8632 - dense_9_loss_7: 2.6696 - dense_9_loss_8: 1.5727 - dense_9_loss_9: 2.0893 - dense_9_loss_10: 2.8081 - dense_9_acc_1: 0.0720 - dense_9_acc_2: 0.1247 - dense_9_acc_3: 0.0753 - dense_9_acc_4: 0.0520 - dense_9_acc_5: 0.6247 - dense_9_acc_6: 0.2060 - dense_9_acc_7: 0.0340 - dense_9_acc_8: 0.6393 - dense_9_acc_9: 0.0880 - dense_9_acc_10: 0.035 - ETA: 85s - loss: 22.0733 - dense_9_loss_1: 2.2513 - dense_9_loss_2: 2.1595 - dense_9_loss_3: 2.3669 - dense_9_loss_4: 2.6455 - dense_9_loss_5: 1.6707 - dense_9_loss_6: 1.8598 - dense_9_loss_7: 2.6741 - dense_9_loss_8: 1.5474 - dense_9_loss_9: 2.0858 - dense_9_loss_10: 2.8123 - dense_9_acc_1: 0.0675 - dense_9_acc_2: 0.1581 - dense_9_acc_3: 0.0706 - dense_9_acc_4: 0.0487 - dense_9_acc_5: 0.6481 - dense_9_acc_6: 0.1931 - dense_9_acc_7: 0.0319 - dense_9_acc_8: 0.6619 - dense_9_acc_9: 0.0825 - dense_9_acc_10: 0.033 3200/10000 [========>.....................] - ETA: 79s - loss: 21.9990 - dense_9_loss_1: 2.2459 - dense_9_loss_2: 2.1353 - dense_9_loss_3: 2.3628 - dense_9_loss_4: 2.6490 - dense_9_loss_5: 1.6470 - dense_9_loss_6: 1.8538 - dense_9_loss_7: 2.6836 - dense_9_loss_8: 1.5252 - dense_9_loss_9: 2.0816 - dense_9_loss_10: 2.8146 - dense_9_acc_1: 0.0635 - dense_9_acc_2: 0.1865 - dense_9_acc_3: 0.0665 - dense_9_acc_4: 0.0459 - dense_9_acc_5: 0.6688 - dense_9_acc_6: 0.1818 - dense_9_acc_7: 0.0300 - dense_9_acc_8: 0.6818 - dense_9_acc_9: 0.0776 - dense_9_acc_10: 0.031 - ETA: 75s - loss: 21.9278 - dense_9_loss_1: 2.2394 - dense_9_loss_2: 2.1093 - dense_9_loss_3: 2.3582 - dense_9_loss_4: 2.6561 - dense_9_loss_5: 1.6282 - dense_9_loss_6: 1.8447 - dense_9_loss_7: 2.6856 - dense_9_loss_8: 1.5081 - dense_9_loss_9: 2.0775 - dense_9_loss_10: 2.8207 - dense_9_acc_1: 0.0600 - dense_9_acc_2: 0.2139 - dense_9_acc_3: 0.0722 - dense_9_acc_4: 0.0433 - dense_9_acc_5: 0.6872 - dense_9_acc_6: 0.1717 - dense_9_acc_7: 0.0283 - dense_9_acc_8: 0.6994 - dense_9_acc_9: 0.0733 - dense_9_acc_10: 0.029 - ETA: 70s - loss: 21.8709 - dense_9_loss_1: 2.2371 - dense_9_loss_2: 2.0809 - dense_9_loss_3: 2.3521 - dense_9_loss_4: 2.6747 - dense_9_loss_5: 1.6154 - dense_9_loss_6: 1.8329 - dense_9_loss_7: 2.6849 - dense_9_loss_8: 1.4966 - dense_9_loss_9: 2.0714 - dense_9_loss_10: 2.8248 - dense_9_acc_1: 0.0568 - dense_9_acc_2: 0.2337 - dense_9_acc_3: 0.0821 - dense_9_acc_4: 0.0453 - dense_9_acc_5: 0.7037 - dense_9_acc_6: 0.1626 - dense_9_acc_7: 0.0268 - dense_9_acc_8: 0.7153 - dense_9_acc_9: 0.0695 - dense_9_acc_10: 0.027 - ETA: 66s - loss: 21.8218 - dense_9_loss_1: 2.2357 - dense_9_loss_2: 2.0519 - dense_9_loss_3: 2.3458 - dense_9_loss_4: 2.6909 - dense_9_loss_5: 1.6078 - dense_9_loss_6: 1.8189 - dense_9_loss_7: 2.6866 - dense_9_loss_8: 1.4899 - dense_9_loss_9: 2.0660 - dense_9_loss_10: 2.8283 - dense_9_acc_1: 0.0540 - dense_9_acc_2: 0.2505 - dense_9_acc_3: 0.0865 - dense_9_acc_4: 0.0470 - dense_9_acc_5: 0.6685 - dense_9_acc_6: 0.1720 - dense_9_acc_7: 0.0255 - dense_9_acc_8: 0.7295 - dense_9_acc_9: 0.0660 - dense_9_acc_10: 0.026 - ETA: 63s - loss: 21.7567 - dense_9_loss_1: 2.2299 - dense_9_loss_2: 2.0238 - dense_9_loss_3: 2.3405 - dense_9_loss_4: 2.6994 - dense_9_loss_5: 1.6014 - dense_9_loss_6: 1.8045 - dense_9_loss_7: 2.6900 - dense_9_loss_8: 1.4860 - dense_9_loss_9: 2.0569 - dense_9_loss_10: 2.8243 - dense_9_acc_1: 0.0514 - dense_9_acc_2: 0.2695 - dense_9_acc_3: 0.0910 - dense_9_acc_4: 0.0481 - dense_9_acc_5: 0.6367 - dense_9_acc_6: 0.1810 - dense_9_acc_7: 0.0243 - dense_9_acc_8: 0.7424 - dense_9_acc_9: 0.0629 - dense_9_acc_10: 0.025 - ETA: 60s - loss: 21.6901 - dense_9_loss_1: 2.2276 - dense_9_loss_2: 1.9979 - dense_9_loss_3: 2.3335 - dense_9_loss_4: 2.7055 - dense_9_loss_5: 1.5942 - dense_9_loss_6: 1.7953 - dense_9_loss_7: 2.6859 - dense_9_loss_8: 1.4833 - dense_9_loss_9: 2.0466 - dense_9_loss_10: 2.8202 - dense_9_acc_1: 0.0491 - dense_9_acc_2: 0.2827 - dense_9_acc_3: 0.0968 - dense_9_acc_4: 0.0500 - dense_9_acc_5: 0.6132 - dense_9_acc_6: 0.1727 - dense_9_acc_7: 0.0232 - dense_9_acc_8: 0.7541 - dense_9_acc_9: 0.0600 - dense_9_acc_10: 0.024 - ETA: 57s - loss: 21.6330 - dense_9_loss_1: 2.2232 - dense_9_loss_2: 1.9731 - dense_9_loss_3: 2.3251 - dense_9_loss_4: 2.7080 - dense_9_loss_5: 1.5854 - dense_9_loss_6: 1.7866 - dense_9_loss_7: 2.6907 - dense_9_loss_8: 1.4807 - dense_9_loss_9: 2.0361 - dense_9_loss_10: 2.8243 - dense_9_acc_1: 0.0470 - dense_9_acc_2: 0.2961 - dense_9_acc_3: 0.1017 - dense_9_acc_4: 0.0543 - dense_9_acc_5: 0.6300 - dense_9_acc_6: 0.1652 - dense_9_acc_7: 0.0222 - dense_9_acc_8: 0.7648 - dense_9_acc_9: 0.0574 - dense_9_acc_10: 0.023 - ETA: 54s - loss: 21.5815 - dense_9_loss_1: 2.2185 - dense_9_loss_2: 1.9481 - dense_9_loss_3: 2.3165 - dense_9_loss_4: 2.7165 - dense_9_loss_5: 1.5750 - dense_9_loss_6: 1.7798 - dense_9_loss_7: 2.6971 - dense_9_loss_8: 1.4763 - dense_9_loss_9: 2.0272 - dense_9_loss_10: 2.8265 - dense_9_acc_1: 0.0450 - dense_9_acc_2: 0.3087 - dense_9_acc_3: 0.1054 - dense_9_acc_4: 0.0550 - dense_9_acc_5: 0.6454 - dense_9_acc_6: 0.1583 - dense_9_acc_7: 0.0212 - dense_9_acc_8: 0.7746 - dense_9_acc_9: 0.0550 - dense_9_acc_10: 0.022 - ETA: 51s - loss: 21.5381 - dense_9_loss_1: 2.2150 - dense_9_loss_2: 1.9228 - dense_9_loss_3: 2.3134 - dense_9_loss_4: 2.7323 - dense_9_loss_5: 1.5629 - dense_9_loss_6: 1.7756 - dense_9_loss_7: 2.6983 - dense_9_loss_8: 1.4691 - dense_9_loss_9: 2.0236 - dense_9_loss_10: 2.8253 - dense_9_acc_1: 0.0432 - dense_9_acc_2: 0.3204 - dense_9_acc_3: 0.1080 - dense_9_acc_4: 0.0556 - dense_9_acc_5: 0.6596 - dense_9_acc_6: 0.1520 - dense_9_acc_7: 0.0204 - dense_9_acc_8: 0.7836 - dense_9_acc_9: 0.0528 - dense_9_acc_10: 0.021 - ETA: 49s - loss: 21.4919 - dense_9_loss_1: 2.2057 - dense_9_loss_2: 1.8958 - dense_9_loss_3: 2.3100 - dense_9_loss_4: 2.7480 - dense_9_loss_5: 1.5479 - dense_9_loss_6: 1.7747 - dense_9_loss_7: 2.6985 - dense_9_loss_8: 1.4605 - dense_9_loss_9: 2.0190 - dense_9_loss_10: 2.8318 - dense_9_acc_1: 0.0415 - dense_9_acc_2: 0.3354 - dense_9_acc_3: 0.1135 - dense_9_acc_4: 0.0535 - dense_9_acc_5: 0.6727 - dense_9_acc_6: 0.1462 - dense_9_acc_7: 0.0196 - dense_9_acc_8: 0.7919 - dense_9_acc_9: 0.0508 - dense_9_acc_10: 0.020 - ETA: 47s - loss: 21.4371 - dense_9_loss_1: 2.2010 - dense_9_loss_2: 1.8722 - dense_9_loss_3: 2.3010 - dense_9_loss_4: 2.7542 - dense_9_loss_5: 1.5309 - dense_9_loss_6: 1.7759 - dense_9_loss_7: 2.7012 - dense_9_loss_8: 1.4527 - dense_9_loss_9: 2.0155 - dense_9_loss_10: 2.8325 - dense_9_acc_1: 0.0400 - dense_9_acc_2: 0.3463 - dense_9_acc_3: 0.1226 - dense_9_acc_4: 0.0515 - dense_9_acc_5: 0.6848 - dense_9_acc_6: 0.1407 - dense_9_acc_7: 0.0189 - dense_9_acc_8: 0.7996 - dense_9_acc_9: 0.0489 - dense_9_acc_10: 0.019 - ETA: 45s - loss: 21.3812 - dense_9_loss_1: 2.1968 - dense_9_loss_2: 1.8498 - dense_9_loss_3: 2.2917 - dense_9_loss_4: 2.7571 - dense_9_loss_5: 1.5139 - dense_9_loss_6: 1.7781 - dense_9_loss_7: 2.7044 - dense_9_loss_8: 1.4468 - dense_9_loss_9: 2.0121 - dense_9_loss_10: 2.8305 - dense_9_acc_1: 0.0386 - dense_9_acc_2: 0.3561 - dense_9_acc_3: 0.1304 - dense_9_acc_4: 0.0496 - dense_9_acc_5: 0.6961 - dense_9_acc_6: 0.1357 - dense_9_acc_7: 0.0182 - dense_9_acc_8: 0.8068 - dense_9_acc_9: 0.0471 - dense_9_acc_10: 0.018 - ETA: 43s - loss: 21.3211 - dense_9_loss_1: 2.1906 - dense_9_loss_2: 1.8270 - dense_9_loss_3: 2.2859 - dense_9_loss_4: 2.7596 - dense_9_loss_5: 1.4986 - dense_9_loss_6: 1.7788 - dense_9_loss_7: 2.7046 - dense_9_loss_8: 1.4429 - dense_9_loss_9: 2.0084 - dense_9_loss_10: 2.8247 - dense_9_acc_1: 0.0372 - dense_9_acc_2: 0.3662 - dense_9_acc_3: 0.1355 - dense_9_acc_4: 0.0479 - dense_9_acc_5: 0.7066 - dense_9_acc_6: 0.1310 - dense_9_acc_7: 0.0176 - dense_9_acc_8: 0.8134 - dense_9_acc_9: 0.0455 - dense_9_acc_10: 0.018 - ETA: 41s - loss: 21.2743 - dense_9_loss_1: 2.1815 - dense_9_loss_2: 1.8036 - dense_9_loss_3: 2.2805 - dense_9_loss_4: 2.7713 - dense_9_loss_5: 1.4858 - dense_9_loss_6: 1.7764 - dense_9_loss_7: 2.7073 - dense_9_loss_8: 1.4397 - dense_9_loss_9: 2.0038 - dense_9_loss_10: 2.8245 - dense_9_acc_1: 0.0360 - dense_9_acc_2: 0.3770 - dense_9_acc_3: 0.1373 - dense_9_acc_4: 0.0463 - dense_9_acc_5: 0.7163 - dense_9_acc_6: 0.1267 - dense_9_acc_7: 0.0170 - dense_9_acc_8: 0.8197 - dense_9_acc_9: 0.0440 - dense_9_acc_10: 0.017 - ETA: 40s - loss: 21.2309 - dense_9_loss_1: 2.1738 - dense_9_loss_2: 1.7832 - dense_9_loss_3: 2.2745 - dense_9_loss_4: 2.7870 - dense_9_loss_5: 1.4747 - dense_9_loss_6: 1.7717 - dense_9_loss_7: 2.7066 - dense_9_loss_8: 1.4378 - dense_9_loss_9: 1.9992 - dense_9_loss_10: 2.8223 - dense_9_acc_1: 0.0348 - dense_9_acc_2: 0.3855 - dense_9_acc_3: 0.1410 - dense_9_acc_4: 0.0448 - dense_9_acc_5: 0.7255 - dense_9_acc_6: 0.1226 - dense_9_acc_7: 0.0165 - dense_9_acc_8: 0.8255 - dense_9_acc_9: 0.0426 - dense_9_acc_10: 0.021 - ETA: 38s - loss: 21.1733 - dense_9_loss_1: 2.1593 - dense_9_loss_2: 1.7635 - dense_9_loss_3: 2.2666 - dense_9_loss_4: 2.7926 - dense_9_loss_5: 1.4634 - dense_9_loss_6: 1.7686 - dense_9_loss_7: 2.7059 - dense_9_loss_8: 1.4410 - dense_9_loss_9: 1.9932 - dense_9_loss_10: 2.8191 - dense_9_acc_1: 0.0337 - dense_9_acc_2: 0.3959 - dense_9_acc_3: 0.1425 - dense_9_acc_4: 0.0434 - dense_9_acc_5: 0.7341 - dense_9_acc_6: 0.1187 - dense_9_acc_7: 0.0159 - dense_9_acc_8: 0.8294 - dense_9_acc_9: 0.0503 - dense_9_acc_10: 0.0241"
     ]
    },
    {
     "name": "stdout",
     "output_type": "stream",
     "text": [
      " 4800/10000 [=============>................] - ETA: 36s - loss: 21.1223 - dense_9_loss_1: 2.1533 - dense_9_loss_2: 1.7491 - dense_9_loss_3: 2.2564 - dense_9_loss_4: 2.7947 - dense_9_loss_5: 1.4516 - dense_9_loss_6: 1.7643 - dense_9_loss_7: 2.7105 - dense_9_loss_8: 1.4426 - dense_9_loss_9: 1.9872 - dense_9_loss_10: 2.8126 - dense_9_acc_1: 0.0327 - dense_9_acc_2: 0.4009 - dense_9_acc_3: 0.1470 - dense_9_acc_4: 0.0421 - dense_9_acc_5: 0.7421 - dense_9_acc_6: 0.1152 - dense_9_acc_7: 0.0155 - dense_9_acc_8: 0.8345 - dense_9_acc_9: 0.0582 - dense_9_acc_10: 0.027 - ETA: 35s - loss: 21.0729 - dense_9_loss_1: 2.1462 - dense_9_loss_2: 1.7338 - dense_9_loss_3: 2.2447 - dense_9_loss_4: 2.7984 - dense_9_loss_5: 1.4394 - dense_9_loss_6: 1.7614 - dense_9_loss_7: 2.7158 - dense_9_loss_8: 1.4376 - dense_9_loss_9: 1.9849 - dense_9_loss_10: 2.8108 - dense_9_acc_1: 0.0318 - dense_9_acc_2: 0.4062 - dense_9_acc_3: 0.1547 - dense_9_acc_4: 0.0409 - dense_9_acc_5: 0.7497 - dense_9_acc_6: 0.1118 - dense_9_acc_7: 0.0150 - dense_9_acc_8: 0.8394 - dense_9_acc_9: 0.0565 - dense_9_acc_10: 0.028 - ETA: 34s - loss: 21.0254 - dense_9_loss_1: 2.1368 - dense_9_loss_2: 1.7174 - dense_9_loss_3: 2.2337 - dense_9_loss_4: 2.8035 - dense_9_loss_5: 1.4268 - dense_9_loss_6: 1.7600 - dense_9_loss_7: 2.7186 - dense_9_loss_8: 1.4329 - dense_9_loss_9: 1.9857 - dense_9_loss_10: 2.8101 - dense_9_acc_1: 0.0309 - dense_9_acc_2: 0.4120 - dense_9_acc_3: 0.1617 - dense_9_acc_4: 0.0397 - dense_9_acc_5: 0.7569 - dense_9_acc_6: 0.1086 - dense_9_acc_7: 0.0146 - dense_9_acc_8: 0.8440 - dense_9_acc_9: 0.0557 - dense_9_acc_10: 0.031 - ETA: 32s - loss: 20.9629 - dense_9_loss_1: 2.1202 - dense_9_loss_2: 1.6985 - dense_9_loss_3: 2.2257 - dense_9_loss_4: 2.8042 - dense_9_loss_5: 1.4142 - dense_9_loss_6: 1.7580 - dense_9_loss_7: 2.7213 - dense_9_loss_8: 1.4325 - dense_9_loss_9: 1.9806 - dense_9_loss_10: 2.8078 - dense_9_acc_1: 0.0392 - dense_9_acc_2: 0.4206 - dense_9_acc_3: 0.1656 - dense_9_acc_4: 0.0386 - dense_9_acc_5: 0.7636 - dense_9_acc_6: 0.1056 - dense_9_acc_7: 0.0142 - dense_9_acc_8: 0.8483 - dense_9_acc_9: 0.0639 - dense_9_acc_10: 0.034 - ETA: 31s - loss: 20.9087 - dense_9_loss_1: 2.1097 - dense_9_loss_2: 1.6855 - dense_9_loss_3: 2.2155 - dense_9_loss_4: 2.8028 - dense_9_loss_5: 1.4027 - dense_9_loss_6: 1.7568 - dense_9_loss_7: 2.7226 - dense_9_loss_8: 1.4326 - dense_9_loss_9: 1.9733 - dense_9_loss_10: 2.8071 - dense_9_acc_1: 0.0532 - dense_9_acc_2: 0.4246 - dense_9_acc_3: 0.1695 - dense_9_acc_4: 0.0389 - dense_9_acc_5: 0.7700 - dense_9_acc_6: 0.1027 - dense_9_acc_7: 0.0138 - dense_9_acc_8: 0.8524 - dense_9_acc_9: 0.0732 - dense_9_acc_10: 0.037 - ETA: 30s - loss: 20.8514 - dense_9_loss_1: 2.0940 - dense_9_loss_2: 1.6711 - dense_9_loss_3: 2.2068 - dense_9_loss_4: 2.8050 - dense_9_loss_5: 1.3920 - dense_9_loss_6: 1.7558 - dense_9_loss_7: 2.7215 - dense_9_loss_8: 1.4314 - dense_9_loss_9: 1.9673 - dense_9_loss_10: 2.8066 - dense_9_acc_1: 0.0689 - dense_9_acc_2: 0.4305 - dense_9_acc_3: 0.1708 - dense_9_acc_4: 0.0405 - dense_9_acc_5: 0.7761 - dense_9_acc_6: 0.1000 - dense_9_acc_7: 0.0134 - dense_9_acc_8: 0.8563 - dense_9_acc_9: 0.0805 - dense_9_acc_10: 0.040 - ETA: 29s - loss: 20.7944 - dense_9_loss_1: 2.0762 - dense_9_loss_2: 1.6574 - dense_9_loss_3: 2.1981 - dense_9_loss_4: 2.8073 - dense_9_loss_5: 1.3785 - dense_9_loss_6: 1.7549 - dense_9_loss_7: 2.7226 - dense_9_loss_8: 1.4311 - dense_9_loss_9: 1.9596 - dense_9_loss_10: 2.8087 - dense_9_acc_1: 0.0844 - dense_9_acc_2: 0.4367 - dense_9_acc_3: 0.1751 - dense_9_acc_4: 0.0395 - dense_9_acc_5: 0.7818 - dense_9_acc_6: 0.0974 - dense_9_acc_7: 0.0131 - dense_9_acc_8: 0.8546 - dense_9_acc_9: 0.0869 - dense_9_acc_10: 0.042 - ETA: 28s - loss: 20.7414 - dense_9_loss_1: 2.0603 - dense_9_loss_2: 1.6451 - dense_9_loss_3: 2.1899 - dense_9_loss_4: 2.8115 - dense_9_loss_5: 1.3636 - dense_9_loss_6: 1.7563 - dense_9_loss_7: 2.7239 - dense_9_loss_8: 1.4283 - dense_9_loss_9: 1.9529 - dense_9_loss_10: 2.8095 - dense_9_acc_1: 0.0977 - dense_9_acc_2: 0.4412 - dense_9_acc_3: 0.1792 - dense_9_acc_4: 0.0385 - dense_9_acc_5: 0.7872 - dense_9_acc_6: 0.0950 - dense_9_acc_7: 0.0127 - dense_9_acc_8: 0.8582 - dense_9_acc_9: 0.0937 - dense_9_acc_10: 0.045 - ETA: 27s - loss: 20.6907 - dense_9_loss_1: 2.0419 - dense_9_loss_2: 1.6315 - dense_9_loss_3: 2.1829 - dense_9_loss_4: 2.8167 - dense_9_loss_5: 1.3492 - dense_9_loss_6: 1.7570 - dense_9_loss_7: 2.7277 - dense_9_loss_8: 1.4235 - dense_9_loss_9: 1.9503 - dense_9_loss_10: 2.8102 - dense_9_acc_1: 0.1122 - dense_9_acc_2: 0.4473 - dense_9_acc_3: 0.1788 - dense_9_acc_4: 0.0376 - dense_9_acc_5: 0.7924 - dense_9_acc_6: 0.0927 - dense_9_acc_7: 0.0124 - dense_9_acc_8: 0.8617 - dense_9_acc_9: 0.0922 - dense_9_acc_10: 0.047 - ETA: 26s - loss: 20.6381 - dense_9_loss_1: 2.0250 - dense_9_loss_2: 1.6186 - dense_9_loss_3: 2.1733 - dense_9_loss_4: 2.8196 - dense_9_loss_5: 1.3365 - dense_9_loss_6: 1.7558 - dense_9_loss_7: 2.7316 - dense_9_loss_8: 1.4203 - dense_9_loss_9: 1.9464 - dense_9_loss_10: 2.8111 - dense_9_acc_1: 0.1248 - dense_9_acc_2: 0.4519 - dense_9_acc_3: 0.1826 - dense_9_acc_4: 0.0371 - dense_9_acc_5: 0.7974 - dense_9_acc_6: 0.0905 - dense_9_acc_7: 0.0121 - dense_9_acc_8: 0.8650 - dense_9_acc_9: 0.0931 - dense_9_acc_10: 0.048 - ETA: 25s - loss: 20.5947 - dense_9_loss_1: 2.0122 - dense_9_loss_2: 1.6088 - dense_9_loss_3: 2.1668 - dense_9_loss_4: 2.8193 - dense_9_loss_5: 1.3263 - dense_9_loss_6: 1.7556 - dense_9_loss_7: 2.7332 - dense_9_loss_8: 1.4178 - dense_9_loss_9: 1.9422 - dense_9_loss_10: 2.8126 - dense_9_acc_1: 0.1342 - dense_9_acc_2: 0.4537 - dense_9_acc_3: 0.1858 - dense_9_acc_4: 0.0381 - dense_9_acc_5: 0.8021 - dense_9_acc_6: 0.0884 - dense_9_acc_7: 0.0119 - dense_9_acc_8: 0.8681 - dense_9_acc_9: 0.0965 - dense_9_acc_10: 0.050 - ETA: 24s - loss: 20.5462 - dense_9_loss_1: 1.9963 - dense_9_loss_2: 1.5979 - dense_9_loss_3: 2.1581 - dense_9_loss_4: 2.8208 - dense_9_loss_5: 1.3164 - dense_9_loss_6: 1.7550 - dense_9_loss_7: 2.7349 - dense_9_loss_8: 1.4170 - dense_9_loss_9: 1.9364 - dense_9_loss_10: 2.8133 - dense_9_acc_1: 0.1448 - dense_9_acc_2: 0.4570 - dense_9_acc_3: 0.1895 - dense_9_acc_4: 0.0391 - dense_9_acc_5: 0.8066 - dense_9_acc_6: 0.0864 - dense_9_acc_7: 0.0116 - dense_9_acc_8: 0.8707 - dense_9_acc_9: 0.1032 - dense_9_acc_10: 0.052 - ETA: 23s - loss: 20.5043 - dense_9_loss_1: 1.9827 - dense_9_loss_2: 1.5893 - dense_9_loss_3: 2.1486 - dense_9_loss_4: 2.8253 - dense_9_loss_5: 1.3062 - dense_9_loss_6: 1.7534 - dense_9_loss_7: 2.7365 - dense_9_loss_8: 1.4183 - dense_9_loss_9: 1.9312 - dense_9_loss_10: 2.8128 - dense_9_acc_1: 0.1529 - dense_9_acc_2: 0.4582 - dense_9_acc_3: 0.1933 - dense_9_acc_4: 0.0382 - dense_9_acc_5: 0.8109 - dense_9_acc_6: 0.0844 - dense_9_acc_7: 0.0113 - dense_9_acc_8: 0.8700 - dense_9_acc_9: 0.1082 - dense_9_acc_10: 0.053 - ETA: 23s - loss: 20.4506 - dense_9_loss_1: 1.9644 - dense_9_loss_2: 1.5783 - dense_9_loss_3: 2.1390 - dense_9_loss_4: 2.8270 - dense_9_loss_5: 1.2957 - dense_9_loss_6: 1.7524 - dense_9_loss_7: 2.7386 - dense_9_loss_8: 1.4158 - dense_9_loss_9: 1.9266 - dense_9_loss_10: 2.8130 - dense_9_acc_1: 0.1637 - dense_9_acc_2: 0.4624 - dense_9_acc_3: 0.1978 - dense_9_acc_4: 0.0374 - dense_9_acc_5: 0.8150 - dense_9_acc_6: 0.0826 - dense_9_acc_7: 0.0111 - dense_9_acc_8: 0.8720 - dense_9_acc_9: 0.1141 - dense_9_acc_10: 0.055 - ETA: 22s - loss: 20.4014 - dense_9_loss_1: 1.9465 - dense_9_loss_2: 1.5661 - dense_9_loss_3: 2.1300 - dense_9_loss_4: 2.8272 - dense_9_loss_5: 1.2859 - dense_9_loss_6: 1.7507 - dense_9_loss_7: 2.7452 - dense_9_loss_8: 1.4123 - dense_9_loss_9: 1.9252 - dense_9_loss_10: 2.8123 - dense_9_acc_1: 0.1740 - dense_9_acc_2: 0.4664 - dense_9_acc_3: 0.2026 - dense_9_acc_4: 0.0377 - dense_9_acc_5: 0.8189 - dense_9_acc_6: 0.0809 - dense_9_acc_7: 0.0109 - dense_9_acc_8: 0.8745 - dense_9_acc_9: 0.1168 - dense_9_acc_10: 0.055 - ETA: 21s - loss: 20.3550 - dense_9_loss_1: 1.9307 - dense_9_loss_2: 1.5553 - dense_9_loss_3: 2.1253 - dense_9_loss_4: 2.8277 - dense_9_loss_5: 1.2773 - dense_9_loss_6: 1.7477 - dense_9_loss_7: 2.7441 - dense_9_loss_8: 1.4149 - dense_9_loss_9: 1.9202 - dense_9_loss_10: 2.8117 - dense_9_acc_1: 0.1823 - dense_9_acc_2: 0.4687 - dense_9_acc_3: 0.2031 - dense_9_acc_4: 0.0375 - dense_9_acc_5: 0.8227 - dense_9_acc_6: 0.0792 - dense_9_acc_7: 0.0110 - dense_9_acc_8: 0.8631 - dense_9_acc_9: 0.1240 - dense_9_acc_10: 0.0567"
     ]
    },
    {
     "name": "stdout",
     "output_type": "stream",
     "text": [
      " 6400/10000 [==================>...........] - ETA: 20s - loss: 20.3037 - dense_9_loss_1: 1.9142 - dense_9_loss_2: 1.5434 - dense_9_loss_3: 2.1197 - dense_9_loss_4: 2.8271 - dense_9_loss_5: 1.2680 - dense_9_loss_6: 1.7442 - dense_9_loss_7: 2.7457 - dense_9_loss_8: 1.4159 - dense_9_loss_9: 1.9175 - dense_9_loss_10: 2.8080 - dense_9_acc_1: 0.1910 - dense_9_acc_2: 0.4716 - dense_9_acc_3: 0.2049 - dense_9_acc_4: 0.0384 - dense_9_acc_5: 0.8263 - dense_9_acc_6: 0.0776 - dense_9_acc_7: 0.0108 - dense_9_acc_8: 0.8537 - dense_9_acc_9: 0.1284 - dense_9_acc_10: 0.058 - ETA: 20s - loss: 20.2533 - dense_9_loss_1: 1.8972 - dense_9_loss_2: 1.5310 - dense_9_loss_3: 2.1118 - dense_9_loss_4: 2.8256 - dense_9_loss_5: 1.2574 - dense_9_loss_6: 1.7433 - dense_9_loss_7: 2.7508 - dense_9_loss_8: 1.4126 - dense_9_loss_9: 1.9161 - dense_9_loss_10: 2.8075 - dense_9_acc_1: 0.1998 - dense_9_acc_2: 0.4750 - dense_9_acc_3: 0.2096 - dense_9_acc_4: 0.0394 - dense_9_acc_5: 0.8298 - dense_9_acc_6: 0.0760 - dense_9_acc_7: 0.0106 - dense_9_acc_8: 0.8534 - dense_9_acc_9: 0.1294 - dense_9_acc_10: 0.060 - ETA: 19s - loss: 20.2018 - dense_9_loss_1: 1.8801 - dense_9_loss_2: 1.5205 - dense_9_loss_3: 2.1058 - dense_9_loss_4: 2.8265 - dense_9_loss_5: 1.2456 - dense_9_loss_6: 1.7421 - dense_9_loss_7: 2.7519 - dense_9_loss_8: 1.4122 - dense_9_loss_9: 1.9119 - dense_9_loss_10: 2.8054 - dense_9_acc_1: 0.2078 - dense_9_acc_2: 0.4776 - dense_9_acc_3: 0.2120 - dense_9_acc_4: 0.0386 - dense_9_acc_5: 0.8331 - dense_9_acc_6: 0.0745 - dense_9_acc_7: 0.0104 - dense_9_acc_8: 0.8482 - dense_9_acc_9: 0.1339 - dense_9_acc_10: 0.062 - ETA: 18s - loss: 20.1546 - dense_9_loss_1: 1.8637 - dense_9_loss_2: 1.5109 - dense_9_loss_3: 2.0988 - dense_9_loss_4: 2.8294 - dense_9_loss_5: 1.2349 - dense_9_loss_6: 1.7394 - dense_9_loss_7: 2.7518 - dense_9_loss_8: 1.4147 - dense_9_loss_9: 1.9060 - dense_9_loss_10: 2.8050 - dense_9_acc_1: 0.2144 - dense_9_acc_2: 0.4798 - dense_9_acc_3: 0.2148 - dense_9_acc_4: 0.0379 - dense_9_acc_5: 0.8363 - dense_9_acc_6: 0.0731 - dense_9_acc_7: 0.0113 - dense_9_acc_8: 0.8385 - dense_9_acc_9: 0.1402 - dense_9_acc_10: 0.064 - ETA: 18s - loss: 20.1015 - dense_9_loss_1: 1.8482 - dense_9_loss_2: 1.5005 - dense_9_loss_3: 2.0906 - dense_9_loss_4: 2.8294 - dense_9_loss_5: 1.2236 - dense_9_loss_6: 1.7365 - dense_9_loss_7: 2.7528 - dense_9_loss_8: 1.4131 - dense_9_loss_9: 1.9037 - dense_9_loss_10: 2.8029 - dense_9_acc_1: 0.2206 - dense_9_acc_2: 0.4821 - dense_9_acc_3: 0.2187 - dense_9_acc_4: 0.0375 - dense_9_acc_5: 0.8394 - dense_9_acc_6: 0.0717 - dense_9_acc_7: 0.0111 - dense_9_acc_8: 0.8366 - dense_9_acc_9: 0.1434 - dense_9_acc_10: 0.064 - ETA: 17s - loss: 20.0508 - dense_9_loss_1: 1.8318 - dense_9_loss_2: 1.4891 - dense_9_loss_3: 2.0869 - dense_9_loss_4: 2.8273 - dense_9_loss_5: 1.2134 - dense_9_loss_6: 1.7343 - dense_9_loss_7: 2.7564 - dense_9_loss_8: 1.4085 - dense_9_loss_9: 1.9035 - dense_9_loss_10: 2.7996 - dense_9_acc_1: 0.2280 - dense_9_acc_2: 0.4852 - dense_9_acc_3: 0.2204 - dense_9_acc_4: 0.0394 - dense_9_acc_5: 0.8424 - dense_9_acc_6: 0.0704 - dense_9_acc_7: 0.0109 - dense_9_acc_8: 0.8380 - dense_9_acc_9: 0.1448 - dense_9_acc_10: 0.066 - ETA: 16s - loss: 19.9919 - dense_9_loss_1: 1.8152 - dense_9_loss_2: 1.4782 - dense_9_loss_3: 2.0803 - dense_9_loss_4: 2.8241 - dense_9_loss_5: 1.2035 - dense_9_loss_6: 1.7302 - dense_9_loss_7: 2.7548 - dense_9_loss_8: 1.4083 - dense_9_loss_9: 1.9008 - dense_9_loss_10: 2.7965 - dense_9_acc_1: 0.2351 - dense_9_acc_2: 0.4891 - dense_9_acc_3: 0.2229 - dense_9_acc_4: 0.0402 - dense_9_acc_5: 0.8453 - dense_9_acc_6: 0.0696 - dense_9_acc_7: 0.0109 - dense_9_acc_8: 0.8318 - dense_9_acc_9: 0.1487 - dense_9_acc_10: 0.067 - ETA: 16s - loss: 19.9359 - dense_9_loss_1: 1.7986 - dense_9_loss_2: 1.4680 - dense_9_loss_3: 2.0726 - dense_9_loss_4: 2.8234 - dense_9_loss_5: 1.1944 - dense_9_loss_6: 1.7246 - dense_9_loss_7: 2.7541 - dense_9_loss_8: 1.4107 - dense_9_loss_9: 1.8967 - dense_9_loss_10: 2.7928 - dense_9_acc_1: 0.2414 - dense_9_acc_2: 0.4934 - dense_9_acc_3: 0.2257 - dense_9_acc_4: 0.0409 - dense_9_acc_5: 0.8480 - dense_9_acc_6: 0.0704 - dense_9_acc_7: 0.0112 - dense_9_acc_8: 0.8241 - dense_9_acc_9: 0.1536 - dense_9_acc_10: 0.068 - ETA: 15s - loss: 19.8821 - dense_9_loss_1: 1.7814 - dense_9_loss_2: 1.4582 - dense_9_loss_3: 2.0642 - dense_9_loss_4: 2.8227 - dense_9_loss_5: 1.1842 - dense_9_loss_6: 1.7208 - dense_9_loss_7: 2.7572 - dense_9_loss_8: 1.4103 - dense_9_loss_9: 1.8926 - dense_9_loss_10: 2.7905 - dense_9_acc_1: 0.2477 - dense_9_acc_2: 0.4975 - dense_9_acc_3: 0.2293 - dense_9_acc_4: 0.0416 - dense_9_acc_5: 0.8507 - dense_9_acc_6: 0.0693 - dense_9_acc_7: 0.0112 - dense_9_acc_8: 0.8188 - dense_9_acc_9: 0.1598 - dense_9_acc_10: 0.070 - ETA: 15s - loss: 19.8240 - dense_9_loss_1: 1.7640 - dense_9_loss_2: 1.4482 - dense_9_loss_3: 2.0576 - dense_9_loss_4: 2.8205 - dense_9_loss_5: 1.1731 - dense_9_loss_6: 1.7163 - dense_9_loss_7: 2.7587 - dense_9_loss_8: 1.4072 - dense_9_loss_9: 1.8907 - dense_9_loss_10: 2.7878 - dense_9_acc_1: 0.2550 - dense_9_acc_2: 0.5014 - dense_9_acc_3: 0.2314 - dense_9_acc_4: 0.0412 - dense_9_acc_5: 0.8533 - dense_9_acc_6: 0.0681 - dense_9_acc_7: 0.0114 - dense_9_acc_8: 0.8197 - dense_9_acc_9: 0.1631 - dense_9_acc_10: 0.071 - ETA: 14s - loss: 19.7731 - dense_9_loss_1: 1.7478 - dense_9_loss_2: 1.4382 - dense_9_loss_3: 2.0504 - dense_9_loss_4: 2.8222 - dense_9_loss_5: 1.1628 - dense_9_loss_6: 1.7111 - dense_9_loss_7: 2.7604 - dense_9_loss_8: 1.4048 - dense_9_loss_9: 1.8883 - dense_9_loss_10: 2.7871 - dense_9_acc_1: 0.2612 - dense_9_acc_2: 0.5051 - dense_9_acc_3: 0.2341 - dense_9_acc_4: 0.0414 - dense_9_acc_5: 0.8558 - dense_9_acc_6: 0.0681 - dense_9_acc_7: 0.0115 - dense_9_acc_8: 0.8224 - dense_9_acc_9: 0.1646 - dense_9_acc_10: 0.071 - ETA: 14s - loss: 19.7185 - dense_9_loss_1: 1.7319 - dense_9_loss_2: 1.4275 - dense_9_loss_3: 2.0419 - dense_9_loss_4: 2.8204 - dense_9_loss_5: 1.1535 - dense_9_loss_6: 1.7045 - dense_9_loss_7: 2.7644 - dense_9_loss_8: 1.4034 - dense_9_loss_9: 1.8863 - dense_9_loss_10: 2.7847 - dense_9_acc_1: 0.2670 - dense_9_acc_2: 0.5100 - dense_9_acc_3: 0.2380 - dense_9_acc_4: 0.0432 - dense_9_acc_5: 0.8582 - dense_9_acc_6: 0.0725 - dense_9_acc_7: 0.0117 - dense_9_acc_8: 0.8208 - dense_9_acc_9: 0.1667 - dense_9_acc_10: 0.072 - ETA: 13s - loss: 19.6676 - dense_9_loss_1: 1.7168 - dense_9_loss_2: 1.4172 - dense_9_loss_3: 2.0362 - dense_9_loss_4: 2.8182 - dense_9_loss_5: 1.1440 - dense_9_loss_6: 1.6972 - dense_9_loss_7: 2.7674 - dense_9_loss_8: 1.4015 - dense_9_loss_9: 1.8847 - dense_9_loss_10: 2.7843 - dense_9_acc_1: 0.2725 - dense_9_acc_2: 0.5138 - dense_9_acc_3: 0.2395 - dense_9_acc_4: 0.0449 - dense_9_acc_5: 0.8605 - dense_9_acc_6: 0.0774 - dense_9_acc_7: 0.0128 - dense_9_acc_8: 0.8200 - dense_9_acc_9: 0.1687 - dense_9_acc_10: 0.073 - ETA: 13s - loss: 19.6157 - dense_9_loss_1: 1.7012 - dense_9_loss_2: 1.4062 - dense_9_loss_3: 2.0288 - dense_9_loss_4: 2.8209 - dense_9_loss_5: 1.1335 - dense_9_loss_6: 1.6915 - dense_9_loss_7: 2.7690 - dense_9_loss_8: 1.3978 - dense_9_loss_9: 1.8835 - dense_9_loss_10: 2.7832 - dense_9_acc_1: 0.2787 - dense_9_acc_2: 0.5176 - dense_9_acc_3: 0.2419 - dense_9_acc_4: 0.0448 - dense_9_acc_5: 0.8627 - dense_9_acc_6: 0.0802 - dense_9_acc_7: 0.0137 - dense_9_acc_8: 0.8229 - dense_9_acc_9: 0.1681 - dense_9_acc_10: 0.074 - ETA: 12s - loss: 19.5566 - dense_9_loss_1: 1.6850 - dense_9_loss_2: 1.3943 - dense_9_loss_3: 2.0215 - dense_9_loss_4: 2.8204 - dense_9_loss_5: 1.1228 - dense_9_loss_6: 1.6847 - dense_9_loss_7: 2.7709 - dense_9_loss_8: 1.3936 - dense_9_loss_9: 1.8820 - dense_9_loss_10: 2.7814 - dense_9_acc_1: 0.2856 - dense_9_acc_2: 0.5219 - dense_9_acc_3: 0.2443 - dense_9_acc_4: 0.0443 - dense_9_acc_5: 0.8649 - dense_9_acc_6: 0.0837 - dense_9_acc_7: 0.0137 - dense_9_acc_8: 0.8257 - dense_9_acc_9: 0.1705 - dense_9_acc_10: 0.075 - ETA: 12s - loss: 19.4978 - dense_9_loss_1: 1.6700 - dense_9_loss_2: 1.3845 - dense_9_loss_3: 2.0158 - dense_9_loss_4: 2.8179 - dense_9_loss_5: 1.1127 - dense_9_loss_6: 1.6773 - dense_9_loss_7: 2.7726 - dense_9_loss_8: 1.3890 - dense_9_loss_9: 1.8797 - dense_9_loss_10: 2.7783 - dense_9_acc_1: 0.2906 - dense_9_acc_2: 0.5245 - dense_9_acc_3: 0.2453 - dense_9_acc_4: 0.0437 - dense_9_acc_5: 0.8670 - dense_9_acc_6: 0.0917 - dense_9_acc_7: 0.0137 - dense_9_acc_8: 0.8284 - dense_9_acc_9: 0.1736 - dense_9_acc_10: 0.0764"
     ]
    },
    {
     "name": "stdout",
     "output_type": "stream",
     "text": [
      " 8000/10000 [=======================>......] - ETA: 11s - loss: 19.4337 - dense_9_loss_1: 1.6557 - dense_9_loss_2: 1.3748 - dense_9_loss_3: 2.0085 - dense_9_loss_4: 2.8161 - dense_9_loss_5: 1.1035 - dense_9_loss_6: 1.6679 - dense_9_loss_7: 2.7701 - dense_9_loss_8: 1.3826 - dense_9_loss_9: 1.8785 - dense_9_loss_10: 2.7759 - dense_9_acc_1: 0.2951 - dense_9_acc_2: 0.5283 - dense_9_acc_3: 0.2478 - dense_9_acc_4: 0.0435 - dense_9_acc_5: 0.8691 - dense_9_acc_6: 0.1017 - dense_9_acc_7: 0.0160 - dense_9_acc_8: 0.8311 - dense_9_acc_9: 0.1737 - dense_9_acc_10: 0.078 - ETA: 11s - loss: 19.3710 - dense_9_loss_1: 1.6410 - dense_9_loss_2: 1.3639 - dense_9_loss_3: 2.0018 - dense_9_loss_4: 2.8146 - dense_9_loss_5: 1.0946 - dense_9_loss_6: 1.6587 - dense_9_loss_7: 2.7697 - dense_9_loss_8: 1.3753 - dense_9_loss_9: 1.8769 - dense_9_loss_10: 2.7745 - dense_9_acc_1: 0.3002 - dense_9_acc_2: 0.5333 - dense_9_acc_3: 0.2505 - dense_9_acc_4: 0.0450 - dense_9_acc_5: 0.8711 - dense_9_acc_6: 0.1100 - dense_9_acc_7: 0.0177 - dense_9_acc_8: 0.8336 - dense_9_acc_9: 0.1745 - dense_9_acc_10: 0.078 - ETA: 10s - loss: 19.3081 - dense_9_loss_1: 1.6269 - dense_9_loss_2: 1.3537 - dense_9_loss_3: 1.9963 - dense_9_loss_4: 2.8151 - dense_9_loss_5: 1.0861 - dense_9_loss_6: 1.6490 - dense_9_loss_7: 2.7696 - dense_9_loss_8: 1.3655 - dense_9_loss_9: 1.8733 - dense_9_loss_10: 2.7727 - dense_9_acc_1: 0.3051 - dense_9_acc_2: 0.5378 - dense_9_acc_3: 0.2512 - dense_9_acc_4: 0.0443 - dense_9_acc_5: 0.8730 - dense_9_acc_6: 0.1179 - dense_9_acc_7: 0.0181 - dense_9_acc_8: 0.8361 - dense_9_acc_9: 0.1782 - dense_9_acc_10: 0.079 - ETA: 10s - loss: 19.2388 - dense_9_loss_1: 1.6133 - dense_9_loss_2: 1.3436 - dense_9_loss_3: 1.9886 - dense_9_loss_4: 2.8158 - dense_9_loss_5: 1.0765 - dense_9_loss_6: 1.6395 - dense_9_loss_7: 2.7698 - dense_9_loss_8: 1.3540 - dense_9_loss_9: 1.8688 - dense_9_loss_10: 2.7689 - dense_9_acc_1: 0.3094 - dense_9_acc_2: 0.5412 - dense_9_acc_3: 0.2540 - dense_9_acc_4: 0.0440 - dense_9_acc_5: 0.8749 - dense_9_acc_6: 0.1256 - dense_9_acc_7: 0.0182 - dense_9_acc_8: 0.8385 - dense_9_acc_9: 0.1810 - dense_9_acc_10: 0.080 - ETA: 10s - loss: 19.1634 - dense_9_loss_1: 1.5996 - dense_9_loss_2: 1.3335 - dense_9_loss_3: 1.9833 - dense_9_loss_4: 2.8129 - dense_9_loss_5: 1.0661 - dense_9_loss_6: 1.6301 - dense_9_loss_7: 2.7685 - dense_9_loss_8: 1.3414 - dense_9_loss_9: 1.8640 - dense_9_loss_10: 2.7640 - dense_9_acc_1: 0.3145 - dense_9_acc_2: 0.5446 - dense_9_acc_3: 0.2551 - dense_9_acc_4: 0.0454 - dense_9_acc_5: 0.8767 - dense_9_acc_6: 0.1338 - dense_9_acc_7: 0.0197 - dense_9_acc_8: 0.8409 - dense_9_acc_9: 0.1851 - dense_9_acc_10: 0.081 - ETA: 9s - loss: 19.0914 - dense_9_loss_1: 1.5865 - dense_9_loss_2: 1.3232 - dense_9_loss_3: 1.9771 - dense_9_loss_4: 2.8120 - dense_9_loss_5: 1.0557 - dense_9_loss_6: 1.6196 - dense_9_loss_7: 2.7691 - dense_9_loss_8: 1.3279 - dense_9_loss_9: 1.8592 - dense_9_loss_10: 2.7612 - dense_9_acc_1: 0.3204 - dense_9_acc_2: 0.5497 - dense_9_acc_3: 0.2567 - dense_9_acc_4: 0.0451 - dense_9_acc_5: 0.8784 - dense_9_acc_6: 0.1436 - dense_9_acc_7: 0.0204 - dense_9_acc_8: 0.8431 - dense_9_acc_9: 0.1880 - dense_9_acc_10: 0.081 - ETA: 9s - loss: 19.0188 - dense_9_loss_1: 1.5737 - dense_9_loss_2: 1.3144 - dense_9_loss_3: 1.9724 - dense_9_loss_4: 2.8108 - dense_9_loss_5: 1.0452 - dense_9_loss_6: 1.6084 - dense_9_loss_7: 2.7691 - dense_9_loss_8: 1.3137 - dense_9_loss_9: 1.8537 - dense_9_loss_10: 2.7575 - dense_9_acc_1: 0.3273 - dense_9_acc_2: 0.5537 - dense_9_acc_3: 0.2573 - dense_9_acc_4: 0.0461 - dense_9_acc_5: 0.8801 - dense_9_acc_6: 0.1532 - dense_9_acc_7: 0.0213 - dense_9_acc_8: 0.8454 - dense_9_acc_9: 0.1920 - dense_9_acc_10: 0.08 - ETA: 8s - loss: 18.9422 - dense_9_loss_1: 1.5600 - dense_9_loss_2: 1.3038 - dense_9_loss_3: 1.9666 - dense_9_loss_4: 2.8097 - dense_9_loss_5: 1.0342 - dense_9_loss_6: 1.5998 - dense_9_loss_7: 2.7672 - dense_9_loss_8: 1.2990 - dense_9_loss_9: 1.8491 - dense_9_loss_10: 2.7528 - dense_9_acc_1: 0.3331 - dense_9_acc_2: 0.5589 - dense_9_acc_3: 0.2587 - dense_9_acc_4: 0.0462 - dense_9_acc_5: 0.8818 - dense_9_acc_6: 0.1590 - dense_9_acc_7: 0.0229 - dense_9_acc_8: 0.8475 - dense_9_acc_9: 0.1951 - dense_9_acc_10: 0.08 - ETA: 8s - loss: 18.8675 - dense_9_loss_1: 1.5479 - dense_9_loss_2: 1.2947 - dense_9_loss_3: 1.9592 - dense_9_loss_4: 2.8079 - dense_9_loss_5: 1.0231 - dense_9_loss_6: 1.5915 - dense_9_loss_7: 2.7659 - dense_9_loss_8: 1.2840 - dense_9_loss_9: 1.8441 - dense_9_loss_10: 2.7491 - dense_9_acc_1: 0.3368 - dense_9_acc_2: 0.5621 - dense_9_acc_3: 0.2612 - dense_9_acc_4: 0.0475 - dense_9_acc_5: 0.8834 - dense_9_acc_6: 0.1641 - dense_9_acc_7: 0.0238 - dense_9_acc_8: 0.8496 - dense_9_acc_9: 0.1973 - dense_9_acc_10: 0.08 - ETA: 8s - loss: 18.7879 - dense_9_loss_1: 1.5358 - dense_9_loss_2: 1.2855 - dense_9_loss_3: 1.9528 - dense_9_loss_4: 2.8061 - dense_9_loss_5: 1.0121 - dense_9_loss_6: 1.5810 - dense_9_loss_7: 2.7653 - dense_9_loss_8: 1.2691 - dense_9_loss_9: 1.8360 - dense_9_loss_10: 2.7442 - dense_9_acc_1: 0.3407 - dense_9_acc_2: 0.5664 - dense_9_acc_3: 0.2630 - dense_9_acc_4: 0.0478 - dense_9_acc_5: 0.8850 - dense_9_acc_6: 0.1719 - dense_9_acc_7: 0.0247 - dense_9_acc_8: 0.8516 - dense_9_acc_9: 0.1996 - dense_9_acc_10: 0.08 - ETA: 7s - loss: 18.7075 - dense_9_loss_1: 1.5235 - dense_9_loss_2: 1.2764 - dense_9_loss_3: 1.9469 - dense_9_loss_4: 2.8026 - dense_9_loss_5: 1.0014 - dense_9_loss_6: 1.5696 - dense_9_loss_7: 2.7639 - dense_9_loss_8: 1.2546 - dense_9_loss_9: 1.8291 - dense_9_loss_10: 2.7395 - dense_9_acc_1: 0.3468 - dense_9_acc_2: 0.5701 - dense_9_acc_3: 0.2648 - dense_9_acc_4: 0.0489 - dense_9_acc_5: 0.8865 - dense_9_acc_6: 0.1808 - dense_9_acc_7: 0.0256 - dense_9_acc_8: 0.8536 - dense_9_acc_9: 0.2029 - dense_9_acc_10: 0.08 - ETA: 7s - loss: 18.6285 - dense_9_loss_1: 1.5118 - dense_9_loss_2: 1.2673 - dense_9_loss_3: 1.9415 - dense_9_loss_4: 2.7993 - dense_9_loss_5: 0.9910 - dense_9_loss_6: 1.5582 - dense_9_loss_7: 2.7614 - dense_9_loss_8: 1.2406 - dense_9_loss_9: 1.8241 - dense_9_loss_10: 2.7332 - dense_9_acc_1: 0.3518 - dense_9_acc_2: 0.5749 - dense_9_acc_3: 0.2662 - dense_9_acc_4: 0.0493 - dense_9_acc_5: 0.8880 - dense_9_acc_6: 0.1892 - dense_9_acc_7: 0.0267 - dense_9_acc_8: 0.8555 - dense_9_acc_9: 0.2043 - dense_9_acc_10: 0.08 - ETA: 6s - loss: 18.5497 - dense_9_loss_1: 1.5003 - dense_9_loss_2: 1.2582 - dense_9_loss_3: 1.9357 - dense_9_loss_4: 2.7963 - dense_9_loss_5: 0.9804 - dense_9_loss_6: 1.5471 - dense_9_loss_7: 2.7590 - dense_9_loss_8: 1.2265 - dense_9_loss_9: 1.8165 - dense_9_loss_10: 2.7297 - dense_9_acc_1: 0.3574 - dense_9_acc_2: 0.5787 - dense_9_acc_3: 0.2677 - dense_9_acc_4: 0.0497 - dense_9_acc_5: 0.8895 - dense_9_acc_6: 0.1971 - dense_9_acc_7: 0.0278 - dense_9_acc_8: 0.8574 - dense_9_acc_9: 0.2071 - dense_9_acc_10: 0.08 - ETA: 6s - loss: 18.4717 - dense_9_loss_1: 1.4891 - dense_9_loss_2: 1.2499 - dense_9_loss_3: 1.9306 - dense_9_loss_4: 2.7933 - dense_9_loss_5: 0.9698 - dense_9_loss_6: 1.5359 - dense_9_loss_7: 2.7547 - dense_9_loss_8: 1.2125 - dense_9_loss_9: 1.8116 - dense_9_loss_10: 2.7243 - dense_9_acc_1: 0.3622 - dense_9_acc_2: 0.5818 - dense_9_acc_3: 0.2686 - dense_9_acc_4: 0.0501 - dense_9_acc_5: 0.8909 - dense_9_acc_6: 0.2051 - dense_9_acc_7: 0.0287 - dense_9_acc_8: 0.8592 - dense_9_acc_9: 0.2096 - dense_9_acc_10: 0.08 - ETA: 6s - loss: 18.3890 - dense_9_loss_1: 1.4781 - dense_9_loss_2: 1.2411 - dense_9_loss_3: 1.9239 - dense_9_loss_4: 2.7891 - dense_9_loss_5: 0.9593 - dense_9_loss_6: 1.5259 - dense_9_loss_7: 2.7495 - dense_9_loss_8: 1.1989 - dense_9_loss_9: 1.8034 - dense_9_loss_10: 2.7198 - dense_9_acc_1: 0.3672 - dense_9_acc_2: 0.5857 - dense_9_acc_3: 0.2713 - dense_9_acc_4: 0.0508 - dense_9_acc_5: 0.8923 - dense_9_acc_6: 0.2118 - dense_9_acc_7: 0.0295 - dense_9_acc_8: 0.8610 - dense_9_acc_9: 0.2128 - dense_9_acc_10: 0.08 - ETA: 5s - loss: 18.3100 - dense_9_loss_1: 1.4678 - dense_9_loss_2: 1.2334 - dense_9_loss_3: 1.9174 - dense_9_loss_4: 2.7842 - dense_9_loss_5: 0.9490 - dense_9_loss_6: 1.5145 - dense_9_loss_7: 2.7452 - dense_9_loss_8: 1.1857 - dense_9_loss_9: 1.7982 - dense_9_loss_10: 2.7146 - dense_9_acc_1: 0.3716 - dense_9_acc_2: 0.5887 - dense_9_acc_3: 0.2737 - dense_9_acc_4: 0.0519 - dense_9_acc_5: 0.8936 - dense_9_acc_6: 0.2192 - dense_9_acc_7: 0.0305 - dense_9_acc_8: 0.8627 - dense_9_acc_9: 0.2155 - dense_9_acc_10: 0.0879"
     ]
    },
    {
     "name": "stdout",
     "output_type": "stream",
     "text": [
      " 9600/10000 [===========================>..] - ETA: 5s - loss: 18.2339 - dense_9_loss_1: 1.4570 - dense_9_loss_2: 1.2250 - dense_9_loss_3: 1.9117 - dense_9_loss_4: 2.7803 - dense_9_loss_5: 0.9389 - dense_9_loss_6: 1.5052 - dense_9_loss_7: 2.7388 - dense_9_loss_8: 1.1727 - dense_9_loss_9: 1.7935 - dense_9_loss_10: 2.7108 - dense_9_acc_1: 0.3765 - dense_9_acc_2: 0.5925 - dense_9_acc_3: 0.2754 - dense_9_acc_4: 0.0523 - dense_9_acc_5: 0.8949 - dense_9_acc_6: 0.2248 - dense_9_acc_7: 0.0323 - dense_9_acc_8: 0.8644 - dense_9_acc_9: 0.2188 - dense_9_acc_10: 0.08 - ETA: 5s - loss: 18.1550 - dense_9_loss_1: 1.4464 - dense_9_loss_2: 1.2160 - dense_9_loss_3: 1.9069 - dense_9_loss_4: 2.7763 - dense_9_loss_5: 0.9287 - dense_9_loss_6: 1.4937 - dense_9_loss_7: 2.7337 - dense_9_loss_8: 1.1597 - dense_9_loss_9: 1.7875 - dense_9_loss_10: 2.7063 - dense_9_acc_1: 0.3817 - dense_9_acc_2: 0.5965 - dense_9_acc_3: 0.2760 - dense_9_acc_4: 0.0529 - dense_9_acc_5: 0.8962 - dense_9_acc_6: 0.2322 - dense_9_acc_7: 0.0333 - dense_9_acc_8: 0.8661 - dense_9_acc_9: 0.2204 - dense_9_acc_10: 0.08 - ETA: 4s - loss: 18.0784 - dense_9_loss_1: 1.4360 - dense_9_loss_2: 1.2069 - dense_9_loss_3: 1.9006 - dense_9_loss_4: 2.7729 - dense_9_loss_5: 0.9188 - dense_9_loss_6: 1.4831 - dense_9_loss_7: 2.7287 - dense_9_loss_8: 1.1467 - dense_9_loss_9: 1.7826 - dense_9_loss_10: 2.7020 - dense_9_acc_1: 0.3863 - dense_9_acc_2: 0.6005 - dense_9_acc_3: 0.2776 - dense_9_acc_4: 0.0535 - dense_9_acc_5: 0.8975 - dense_9_acc_6: 0.2389 - dense_9_acc_7: 0.0354 - dense_9_acc_8: 0.8677 - dense_9_acc_9: 0.2214 - dense_9_acc_10: 0.08 - ETA: 4s - loss: 18.0003 - dense_9_loss_1: 1.4257 - dense_9_loss_2: 1.1979 - dense_9_loss_3: 1.8948 - dense_9_loss_4: 2.7691 - dense_9_loss_5: 0.9090 - dense_9_loss_6: 1.4716 - dense_9_loss_7: 2.7241 - dense_9_loss_8: 1.1341 - dense_9_loss_9: 1.7769 - dense_9_loss_10: 2.6971 - dense_9_acc_1: 0.3915 - dense_9_acc_2: 0.6045 - dense_9_acc_3: 0.2793 - dense_9_acc_4: 0.0543 - dense_9_acc_5: 0.8987 - dense_9_acc_6: 0.2463 - dense_9_acc_7: 0.0370 - dense_9_acc_8: 0.8693 - dense_9_acc_9: 0.2237 - dense_9_acc_10: 0.08 - ETA: 4s - loss: 17.9242 - dense_9_loss_1: 1.4155 - dense_9_loss_2: 1.1890 - dense_9_loss_3: 1.8897 - dense_9_loss_4: 2.7658 - dense_9_loss_5: 0.8993 - dense_9_loss_6: 1.4613 - dense_9_loss_7: 2.7184 - dense_9_loss_8: 1.1217 - dense_9_loss_9: 1.7712 - dense_9_loss_10: 2.6922 - dense_9_acc_1: 0.3968 - dense_9_acc_2: 0.6082 - dense_9_acc_3: 0.2796 - dense_9_acc_4: 0.0551 - dense_9_acc_5: 0.8999 - dense_9_acc_6: 0.2524 - dense_9_acc_7: 0.0388 - dense_9_acc_8: 0.8708 - dense_9_acc_9: 0.2252 - dense_9_acc_10: 0.09 - ETA: 3s - loss: 17.8484 - dense_9_loss_1: 1.4060 - dense_9_loss_2: 1.1806 - dense_9_loss_3: 1.8830 - dense_9_loss_4: 2.7623 - dense_9_loss_5: 0.8897 - dense_9_loss_6: 1.4508 - dense_9_loss_7: 2.7129 - dense_9_loss_8: 1.1096 - dense_9_loss_9: 1.7661 - dense_9_loss_10: 2.6873 - dense_9_acc_1: 0.4020 - dense_9_acc_2: 0.6119 - dense_9_acc_3: 0.2817 - dense_9_acc_4: 0.0556 - dense_9_acc_5: 0.9010 - dense_9_acc_6: 0.2584 - dense_9_acc_7: 0.0409 - dense_9_acc_8: 0.8723 - dense_9_acc_9: 0.2270 - dense_9_acc_10: 0.09 - ETA: 3s - loss: 17.7748 - dense_9_loss_1: 1.3966 - dense_9_loss_2: 1.1728 - dense_9_loss_3: 1.8781 - dense_9_loss_4: 2.7585 - dense_9_loss_5: 0.8804 - dense_9_loss_6: 1.4399 - dense_9_loss_7: 2.7072 - dense_9_loss_8: 1.0979 - dense_9_loss_9: 1.7611 - dense_9_loss_10: 2.6822 - dense_9_acc_1: 0.4071 - dense_9_acc_2: 0.6151 - dense_9_acc_3: 0.2826 - dense_9_acc_4: 0.0564 - dense_9_acc_5: 0.9022 - dense_9_acc_6: 0.2645 - dense_9_acc_7: 0.0422 - dense_9_acc_8: 0.8738 - dense_9_acc_9: 0.2287 - dense_9_acc_10: 0.09 - ETA: 3s - loss: 17.6986 - dense_9_loss_1: 1.3866 - dense_9_loss_2: 1.1640 - dense_9_loss_3: 1.8721 - dense_9_loss_4: 2.7545 - dense_9_loss_5: 0.8711 - dense_9_loss_6: 1.4298 - dense_9_loss_7: 2.7019 - dense_9_loss_8: 1.0863 - dense_9_loss_9: 1.7547 - dense_9_loss_10: 2.6775 - dense_9_acc_1: 0.4126 - dense_9_acc_2: 0.6186 - dense_9_acc_3: 0.2843 - dense_9_acc_4: 0.0568 - dense_9_acc_5: 0.9033 - dense_9_acc_6: 0.2705 - dense_9_acc_7: 0.0431 - dense_9_acc_8: 0.8752 - dense_9_acc_9: 0.2312 - dense_9_acc_10: 0.09 - ETA: 3s - loss: 17.6243 - dense_9_loss_1: 1.3773 - dense_9_loss_2: 1.1556 - dense_9_loss_3: 1.8649 - dense_9_loss_4: 2.7506 - dense_9_loss_5: 0.8620 - dense_9_loss_6: 1.4201 - dense_9_loss_7: 2.6956 - dense_9_loss_8: 1.0748 - dense_9_loss_9: 1.7495 - dense_9_loss_10: 2.6737 - dense_9_acc_1: 0.4173 - dense_9_acc_2: 0.6220 - dense_9_acc_3: 0.2867 - dense_9_acc_4: 0.0580 - dense_9_acc_5: 0.9044 - dense_9_acc_6: 0.2760 - dense_9_acc_7: 0.0455 - dense_9_acc_8: 0.8766 - dense_9_acc_9: 0.2328 - dense_9_acc_10: 0.09 - ETA: 2s - loss: 17.5510 - dense_9_loss_1: 1.3677 - dense_9_loss_2: 1.1468 - dense_9_loss_3: 1.8584 - dense_9_loss_4: 2.7468 - dense_9_loss_5: 0.8529 - dense_9_loss_6: 1.4101 - dense_9_loss_7: 2.6903 - dense_9_loss_8: 1.0634 - dense_9_loss_9: 1.7447 - dense_9_loss_10: 2.6699 - dense_9_acc_1: 0.4223 - dense_9_acc_2: 0.6259 - dense_9_acc_3: 0.2884 - dense_9_acc_4: 0.0586 - dense_9_acc_5: 0.9054 - dense_9_acc_6: 0.2824 - dense_9_acc_7: 0.0471 - dense_9_acc_8: 0.8780 - dense_9_acc_9: 0.2344 - dense_9_acc_10: 0.09 - ETA: 2s - loss: 17.4773 - dense_9_loss_1: 1.3589 - dense_9_loss_2: 1.1387 - dense_9_loss_3: 1.8516 - dense_9_loss_4: 2.7435 - dense_9_loss_5: 0.8440 - dense_9_loss_6: 1.3997 - dense_9_loss_7: 2.6840 - dense_9_loss_8: 1.0522 - dense_9_loss_9: 1.7392 - dense_9_loss_10: 2.6655 - dense_9_acc_1: 0.4268 - dense_9_acc_2: 0.6291 - dense_9_acc_3: 0.2903 - dense_9_acc_4: 0.0589 - dense_9_acc_5: 0.9065 - dense_9_acc_6: 0.2891 - dense_9_acc_7: 0.0495 - dense_9_acc_8: 0.8793 - dense_9_acc_9: 0.2358 - dense_9_acc_10: 0.09 - ETA: 2s - loss: 17.4056 - dense_9_loss_1: 1.3493 - dense_9_loss_2: 1.1296 - dense_9_loss_3: 1.8460 - dense_9_loss_4: 2.7397 - dense_9_loss_5: 0.8353 - dense_9_loss_6: 1.3895 - dense_9_loss_7: 2.6785 - dense_9_loss_8: 1.0412 - dense_9_loss_9: 1.7354 - dense_9_loss_10: 2.6610 - dense_9_acc_1: 0.4324 - dense_9_acc_2: 0.6330 - dense_9_acc_3: 0.2910 - dense_9_acc_4: 0.0596 - dense_9_acc_5: 0.9075 - dense_9_acc_6: 0.2951 - dense_9_acc_7: 0.0509 - dense_9_acc_8: 0.8807 - dense_9_acc_9: 0.2375 - dense_9_acc_10: 0.09 - ETA: 1s - loss: 17.3363 - dense_9_loss_1: 1.3405 - dense_9_loss_2: 1.1209 - dense_9_loss_3: 1.8399 - dense_9_loss_4: 2.7355 - dense_9_loss_5: 0.8267 - dense_9_loss_6: 1.3806 - dense_9_loss_7: 2.6729 - dense_9_loss_8: 1.0304 - dense_9_loss_9: 1.7313 - dense_9_loss_10: 2.6575 - dense_9_acc_1: 0.4375 - dense_9_acc_2: 0.6367 - dense_9_acc_3: 0.2926 - dense_9_acc_4: 0.0599 - dense_9_acc_5: 0.9085 - dense_9_acc_6: 0.2999 - dense_9_acc_7: 0.0522 - dense_9_acc_8: 0.8819 - dense_9_acc_9: 0.2392 - dense_9_acc_10: 0.09 - ETA: 1s - loss: 17.2693 - dense_9_loss_1: 1.3326 - dense_9_loss_2: 1.1138 - dense_9_loss_3: 1.8350 - dense_9_loss_4: 2.7326 - dense_9_loss_5: 0.8184 - dense_9_loss_6: 1.3709 - dense_9_loss_7: 2.6677 - dense_9_loss_8: 1.0199 - dense_9_loss_9: 1.7253 - dense_9_loss_10: 2.6530 - dense_9_acc_1: 0.4417 - dense_9_acc_2: 0.6388 - dense_9_acc_3: 0.2931 - dense_9_acc_4: 0.0603 - dense_9_acc_5: 0.9095 - dense_9_acc_6: 0.3052 - dense_9_acc_7: 0.0537 - dense_9_acc_8: 0.8832 - dense_9_acc_9: 0.2411 - dense_9_acc_10: 0.09 - ETA: 1s - loss: 17.1999 - dense_9_loss_1: 1.3240 - dense_9_loss_2: 1.1053 - dense_9_loss_3: 1.8290 - dense_9_loss_4: 2.7284 - dense_9_loss_5: 0.8101 - dense_9_loss_6: 1.3619 - dense_9_loss_7: 2.6623 - dense_9_loss_8: 1.0096 - dense_9_loss_9: 1.7199 - dense_9_loss_10: 2.6495 - dense_9_acc_1: 0.4463 - dense_9_acc_2: 0.6420 - dense_9_acc_3: 0.2943 - dense_9_acc_4: 0.0608 - dense_9_acc_5: 0.9104 - dense_9_acc_6: 0.3097 - dense_9_acc_7: 0.0566 - dense_9_acc_8: 0.8844 - dense_9_acc_9: 0.2418 - dense_9_acc_10: 0.09 - ETA: 1s - loss: 17.1324 - dense_9_loss_1: 1.3155 - dense_9_loss_2: 1.0971 - dense_9_loss_3: 1.8235 - dense_9_loss_4: 2.7244 - dense_9_loss_5: 0.8021 - dense_9_loss_6: 1.3532 - dense_9_loss_7: 2.6570 - dense_9_loss_8: 0.9994 - dense_9_loss_9: 1.7147 - dense_9_loss_10: 2.6455 - dense_9_acc_1: 0.4509 - dense_9_acc_2: 0.6453 - dense_9_acc_3: 0.2951 - dense_9_acc_4: 0.0609 - dense_9_acc_5: 0.9114 - dense_9_acc_6: 0.3147 - dense_9_acc_7: 0.0582 - dense_9_acc_8: 0.8856 - dense_9_acc_9: 0.2432 - dense_9_acc_10: 0.0973"
     ]
    },
    {
     "name": "stdout",
     "output_type": "stream",
     "text": [
      "10000/10000 [==============================] - ETA: 0s - loss: 17.0661 - dense_9_loss_1: 1.3071 - dense_9_loss_2: 1.0892 - dense_9_loss_3: 1.8179 - dense_9_loss_4: 2.7209 - dense_9_loss_5: 0.7943 - dense_9_loss_6: 1.3440 - dense_9_loss_7: 2.6515 - dense_9_loss_8: 0.9895 - dense_9_loss_9: 1.7104 - dense_9_loss_10: 2.6413 - dense_9_acc_1: 0.4554 - dense_9_acc_2: 0.6486 - dense_9_acc_3: 0.2963 - dense_9_acc_4: 0.0613 - dense_9_acc_5: 0.9123 - dense_9_acc_6: 0.3206 - dense_9_acc_7: 0.0606 - dense_9_acc_8: 0.8868 - dense_9_acc_9: 0.2451 - dense_9_acc_10: 0.09 - ETA: 0s - loss: 16.9995 - dense_9_loss_1: 1.2986 - dense_9_loss_2: 1.0811 - dense_9_loss_3: 1.8117 - dense_9_loss_4: 2.7168 - dense_9_loss_5: 0.7866 - dense_9_loss_6: 1.3355 - dense_9_loss_7: 2.6460 - dense_9_loss_8: 0.9798 - dense_9_loss_9: 1.7056 - dense_9_loss_10: 2.6379 - dense_9_acc_1: 0.4595 - dense_9_acc_2: 0.6516 - dense_9_acc_3: 0.2982 - dense_9_acc_4: 0.0624 - dense_9_acc_5: 0.9132 - dense_9_acc_6: 0.3252 - dense_9_acc_7: 0.0624 - dense_9_acc_8: 0.8880 - dense_9_acc_9: 0.2477 - dense_9_acc_10: 0.09 - ETA: 0s - loss: 16.9339 - dense_9_loss_1: 1.2906 - dense_9_loss_2: 1.0736 - dense_9_loss_3: 1.8049 - dense_9_loss_4: 2.7137 - dense_9_loss_5: 0.7791 - dense_9_loss_6: 1.3264 - dense_9_loss_7: 2.6405 - dense_9_loss_8: 0.9704 - dense_9_loss_9: 1.7005 - dense_9_loss_10: 2.6343 - dense_9_acc_1: 0.4635 - dense_9_acc_2: 0.6542 - dense_9_acc_3: 0.3008 - dense_9_acc_4: 0.0631 - dense_9_acc_5: 0.9140 - dense_9_acc_6: 0.3304 - dense_9_acc_7: 0.0646 - dense_9_acc_8: 0.8891 - dense_9_acc_9: 0.2499 - dense_9_acc_10: 0.09 - 25s - loss: 16.8699 - dense_9_loss_1: 1.2827 - dense_9_loss_2: 1.0661 - dense_9_loss_3: 1.7991 - dense_9_loss_4: 2.7103 - dense_9_loss_5: 0.7717 - dense_9_loss_6: 1.3177 - dense_9_loss_7: 2.6347 - dense_9_loss_8: 0.9612 - dense_9_loss_9: 1.6957 - dense_9_loss_10: 2.6306 - dense_9_acc_1: 0.4678 - dense_9_acc_2: 0.6569 - dense_9_acc_3: 0.3019 - dense_9_acc_4: 0.0635 - dense_9_acc_5: 0.9149 - dense_9_acc_6: 0.3353 - dense_9_acc_7: 0.0666 - dense_9_acc_8: 0.8902 - dense_9_acc_9: 0.2521 - dense_9_acc_10: 0.1001    \n"
     ]
    },
    {
     "data": {
      "text/plain": [
       "<keras.callbacks.History at 0x1ec81d46f60>"
      ]
     },
     "execution_count": 52,
     "metadata": {},
     "output_type": "execute_result"
    }
   ],
   "source": [
    "model.fit([Xoh, s0, c0], outputs, epochs=1, batch_size=100)"
   ]
  },
  {
   "cell_type": "markdown",
   "metadata": {},
   "source": [
    "While training you can see the loss as well as the accuracy on each of the 10 positions of the output. The table below gives you an example of what the accuracies could be if the batch had 2 examples: \n",
    "\n",
    "<img src=\"images/table.png\" style=\"width:700;height:200px;\"> <br>\n",
    "<caption><center>Thus, `dense_2_acc_8: 0.89` means that you are predicting the 7th character of the output correctly 89% of the time in the current batch of data. </center></caption>\n",
    "\n",
    "\n",
    "We have run this model for longer, and saved the weights. Run the next cell to load our weights. (By training a model for several minutes, you should be able to obtain a model of similar accuracy, but loading our model will save you time.) "
   ]
  },
  {
   "cell_type": "code",
   "execution_count": 53,
   "metadata": {
    "collapsed": true
   },
   "outputs": [],
   "source": [
    "model.load_weights('models/model.h5')"
   ]
  },
  {
   "cell_type": "markdown",
   "metadata": {},
   "source": [
    "You can now see the results on new examples."
   ]
  },
  {
   "cell_type": "code",
   "execution_count": 54,
   "metadata": {},
   "outputs": [
    {
     "name": "stdout",
     "output_type": "stream",
     "text": [
      "source: 3 May 1979\n",
      "output: 1979-05-03\n",
      "source: 5 April 09\n",
      "output: 2009-05-05\n",
      "source: 21th of August 2016\n",
      "output: 2016-08-21\n",
      "source: Tue 10 Jul 2007\n",
      "output: 2007-07-10\n",
      "source: Saturday May 9 2018\n",
      "output: 2018-05-09\n",
      "source: March 3 2001\n",
      "output: 2001-03-03\n",
      "source: March 3rd 2001\n",
      "output: 2001-03-03\n",
      "source: 1 March 2001\n",
      "output: 2001-03-01\n"
     ]
    }
   ],
   "source": [
    "EXAMPLES = ['3 May 1979', '5 April 09', '21th of August 2016', 'Tue 10 Jul 2007', 'Saturday May 9 2018', 'March 3 2001', 'March 3rd 2001', '1 March 2001']\n",
    "for example in EXAMPLES:\n",
    "    \n",
    "    source = string_to_int(example, Tx, human_vocab)\n",
    "    source = np.array(list(map(lambda x: to_categorical(x, num_classes=len(human_vocab)), source))).swapaxes(0,1)\n",
    "    prediction = model.predict([source, s0, c0])\n",
    "    prediction = np.argmax(prediction, axis = -1)\n",
    "    output = [inv_machine_vocab[int(i)] for i in prediction]\n",
    "    \n",
    "    print(\"source:\", example)\n",
    "    print(\"output:\", ''.join(output))"
   ]
  },
  {
   "cell_type": "markdown",
   "metadata": {},
   "source": [
    "You can also change these examples to test with your own examples. The next part will give you a better sense on what the attention mechanism is doing--i.e., what part of the input the network is paying attention to when generating a particular output character. "
   ]
  },
  {
   "cell_type": "markdown",
   "metadata": {},
   "source": [
    "## 3 - Visualizing Attention (Optional / Ungraded)\n",
    "\n",
    "Since the problem has a fixed output length of 10, it is also possible to carry out this task using 10 different softmax units to generate the 10 characters of the output. But one advantage of the attention model is that each part of the output (say the month) knows it needs to depend only on a small part of the input (the characters in the input giving the month). We can  visualize what part of the output is looking at what part of the input.\n",
    "\n",
    "Consider the task of translating \"Saturday 9 May 2018\" to \"2018-05-09\". If we visualize the computed $\\alpha^{\\langle t, t' \\rangle}$ we get this: \n",
    "\n",
    "<img src=\"images/date_attention.png\" style=\"width:600;height:300px;\"> <br>\n",
    "<caption><center> **Figure 8**: Full Attention Map</center></caption>\n",
    "\n",
    "Notice how the output ignores the \"Saturday\" portion of the input. None of the output timesteps are paying much attention to that portion of the input. We see also that 9 has been translated as 09 and May has been correctly translated into 05, with the output paying attention to the parts of the input it needs to to make the translation. The year mostly requires it to pay attention to the input's \"18\" in order to generate \"2018.\" \n",
    "\n"
   ]
  },
  {
   "cell_type": "markdown",
   "metadata": {},
   "source": [
    "### 3.1 - Getting the activations from the network\n",
    "\n",
    "Lets now visualize the attention values in your network. We'll propagate an example through the network, then visualize the values of $\\alpha^{\\langle t, t' \\rangle}$. \n",
    "\n",
    "To figure out where the attention values are located, let's start by printing a summary of the model ."
   ]
  },
  {
   "cell_type": "code",
   "execution_count": 55,
   "metadata": {},
   "outputs": [
    {
     "name": "stdout",
     "output_type": "stream",
     "text": [
      "____________________________________________________________________________________________________\n",
      "Layer (type)                     Output Shape          Param #     Connected to                     \n",
      "====================================================================================================\n",
      "input_12 (InputLayer)            (None, 30, 37)        0                                            \n",
      "____________________________________________________________________________________________________\n",
      "s0 (InputLayer)                  (None, 64)            0                                            \n",
      "____________________________________________________________________________________________________\n",
      "bidirectional_12 (Bidirectional) (None, 30, 64)        17920       input_12[0][0]                   \n",
      "____________________________________________________________________________________________________\n",
      "repeat_vector_1 (RepeatVector)   (None, 30, 64)        0           s0[0][0]                         \n",
      "                                                                   lstm_18[0][0]                    \n",
      "                                                                   lstm_18[1][0]                    \n",
      "                                                                   lstm_18[2][0]                    \n",
      "                                                                   lstm_18[3][0]                    \n",
      "                                                                   lstm_18[4][0]                    \n",
      "                                                                   lstm_18[5][0]                    \n",
      "                                                                   lstm_18[6][0]                    \n",
      "                                                                   lstm_18[7][0]                    \n",
      "                                                                   lstm_18[8][0]                    \n",
      "____________________________________________________________________________________________________\n",
      "concatenate_1 (Concatenate)      (None, 30, 128)       0           bidirectional_12[0][0]           \n",
      "                                                                   repeat_vector_1[10][0]           \n",
      "                                                                   bidirectional_12[0][0]           \n",
      "                                                                   repeat_vector_1[11][0]           \n",
      "                                                                   bidirectional_12[0][0]           \n",
      "                                                                   repeat_vector_1[12][0]           \n",
      "                                                                   bidirectional_12[0][0]           \n",
      "                                                                   repeat_vector_1[13][0]           \n",
      "                                                                   bidirectional_12[0][0]           \n",
      "                                                                   repeat_vector_1[14][0]           \n",
      "                                                                   bidirectional_12[0][0]           \n",
      "                                                                   repeat_vector_1[15][0]           \n",
      "                                                                   bidirectional_12[0][0]           \n",
      "                                                                   repeat_vector_1[16][0]           \n",
      "                                                                   bidirectional_12[0][0]           \n",
      "                                                                   repeat_vector_1[17][0]           \n",
      "                                                                   bidirectional_12[0][0]           \n",
      "                                                                   repeat_vector_1[18][0]           \n",
      "                                                                   bidirectional_12[0][0]           \n",
      "                                                                   repeat_vector_1[19][0]           \n",
      "____________________________________________________________________________________________________\n",
      "dense_1 (Dense)                  (None, 30, 10)        1290        concatenate_1[8][0]              \n",
      "                                                                   concatenate_1[9][0]              \n",
      "                                                                   concatenate_1[10][0]             \n",
      "                                                                   concatenate_1[11][0]             \n",
      "                                                                   concatenate_1[12][0]             \n",
      "                                                                   concatenate_1[13][0]             \n",
      "                                                                   concatenate_1[14][0]             \n",
      "                                                                   concatenate_1[15][0]             \n",
      "                                                                   concatenate_1[16][0]             \n",
      "                                                                   concatenate_1[17][0]             \n",
      "____________________________________________________________________________________________________\n",
      "dense_2 (Dense)                  (None, 30, 1)         11          dense_1[7][0]                    \n",
      "                                                                   dense_1[8][0]                    \n",
      "                                                                   dense_1[9][0]                    \n",
      "                                                                   dense_1[10][0]                   \n",
      "                                                                   dense_1[11][0]                   \n",
      "                                                                   dense_1[12][0]                   \n",
      "                                                                   dense_1[13][0]                   \n",
      "                                                                   dense_1[14][0]                   \n",
      "                                                                   dense_1[15][0]                   \n",
      "                                                                   dense_1[16][0]                   \n",
      "____________________________________________________________________________________________________\n",
      "attention_weights (Activation)   (None, 30, 1)         0           dense_2[7][0]                    \n",
      "                                                                   dense_2[8][0]                    \n",
      "                                                                   dense_2[9][0]                    \n",
      "                                                                   dense_2[10][0]                   \n",
      "                                                                   dense_2[11][0]                   \n",
      "                                                                   dense_2[12][0]                   \n",
      "                                                                   dense_2[13][0]                   \n",
      "                                                                   dense_2[14][0]                   \n",
      "                                                                   dense_2[15][0]                   \n",
      "                                                                   dense_2[16][0]                   \n",
      "____________________________________________________________________________________________________\n",
      "dot_1 (Dot)                      (None, 1, 64)         0           attention_weights[7][0]          \n",
      "                                                                   bidirectional_12[0][0]           \n",
      "                                                                   attention_weights[8][0]          \n",
      "                                                                   bidirectional_12[0][0]           \n",
      "                                                                   attention_weights[9][0]          \n",
      "                                                                   bidirectional_12[0][0]           \n",
      "                                                                   attention_weights[10][0]         \n",
      "                                                                   bidirectional_12[0][0]           \n",
      "                                                                   attention_weights[11][0]         \n",
      "                                                                   bidirectional_12[0][0]           \n",
      "                                                                   attention_weights[12][0]         \n",
      "                                                                   bidirectional_12[0][0]           \n",
      "                                                                   attention_weights[13][0]         \n",
      "                                                                   bidirectional_12[0][0]           \n",
      "                                                                   attention_weights[14][0]         \n",
      "                                                                   bidirectional_12[0][0]           \n",
      "                                                                   attention_weights[15][0]         \n",
      "                                                                   bidirectional_12[0][0]           \n",
      "                                                                   attention_weights[16][0]         \n",
      "                                                                   bidirectional_12[0][0]           \n",
      "____________________________________________________________________________________________________\n",
      "c0 (InputLayer)                  (None, 64)            0                                            \n",
      "____________________________________________________________________________________________________\n",
      "lstm_18 (LSTM)                   [(None, 64), (None, 6 33024       dot_1[6][0]                      \n",
      "                                                                   s0[0][0]                         \n",
      "                                                                   c0[0][0]                         \n",
      "                                                                   dot_1[7][0]                      \n",
      "                                                                   lstm_18[0][0]                    \n",
      "                                                                   lstm_18[0][2]                    \n",
      "                                                                   dot_1[8][0]                      \n",
      "                                                                   lstm_18[1][0]                    \n",
      "                                                                   lstm_18[1][2]                    \n",
      "                                                                   dot_1[9][0]                      \n",
      "                                                                   lstm_18[2][0]                    \n",
      "                                                                   lstm_18[2][2]                    \n",
      "                                                                   dot_1[10][0]                     \n",
      "                                                                   lstm_18[3][0]                    \n",
      "                                                                   lstm_18[3][2]                    \n",
      "                                                                   dot_1[11][0]                     \n",
      "                                                                   lstm_18[4][0]                    \n",
      "                                                                   lstm_18[4][2]                    \n",
      "                                                                   dot_1[12][0]                     \n",
      "                                                                   lstm_18[5][0]                    \n",
      "                                                                   lstm_18[5][2]                    \n",
      "                                                                   dot_1[13][0]                     \n",
      "                                                                   lstm_18[6][0]                    \n",
      "                                                                   lstm_18[6][2]                    \n",
      "                                                                   dot_1[14][0]                     \n",
      "                                                                   lstm_18[7][0]                    \n",
      "                                                                   lstm_18[7][2]                    \n",
      "                                                                   dot_1[15][0]                     \n",
      "                                                                   lstm_18[8][0]                    \n",
      "                                                                   lstm_18[8][2]                    \n",
      "____________________________________________________________________________________________________\n",
      "dense_9 (Dense)                  (None, 11)            715         lstm_18[0][0]                    \n",
      "                                                                   lstm_18[1][0]                    \n",
      "                                                                   lstm_18[2][0]                    \n",
      "                                                                   lstm_18[3][0]                    \n",
      "                                                                   lstm_18[4][0]                    \n",
      "                                                                   lstm_18[5][0]                    \n",
      "                                                                   lstm_18[6][0]                    \n",
      "                                                                   lstm_18[7][0]                    \n",
      "                                                                   lstm_18[8][0]                    \n",
      "                                                                   lstm_18[9][0]                    \n",
      "====================================================================================================\n",
      "Total params: 52,960\n",
      "Trainable params: 52,960\n",
      "Non-trainable params: 0\n",
      "____________________________________________________________________________________________________\n"
     ]
    }
   ],
   "source": [
    "model.summary()"
   ]
  },
  {
   "cell_type": "markdown",
   "metadata": {},
   "source": [
    "Navigate through the output of `model.summary()` above. You can see that the layer named `attention_weights` outputs the `alphas` of shape (m, 30, 1) before `dot_2` computes the context vector for every time step $t = 0, \\ldots, T_y-1$. Lets get the activations from this layer.\n",
    "\n",
    "The function `attention_map()` pulls out the attention values from your model and plots them."
   ]
  },
  {
   "cell_type": "code",
   "execution_count": 1,
   "metadata": {
    "scrolled": false
   },
   "outputs": [],
   "source": [
    "attention_map = plot_attention_map(model, human_vocab, inv_machine_vocab, \"Tuesday 09 Oct 1993\", num = 7, n_s = 64)"
   ]
  },
  {
   "cell_type": "markdown",
   "metadata": {},
   "source": [
    "On the generated plot you can observe the values of the attention weights for each character of the predicted output. Examine this plot and check that where the network is paying attention makes sense to you.\n",
    "\n",
    "In the date translation application, you will observe that most of the time attention helps predict the year, and hasn't much impact on predicting the day/month."
   ]
  },
  {
   "cell_type": "markdown",
   "metadata": {},
   "source": [
    "### Congratulations!\n",
    "\n",
    "\n",
    "You have come to the end of this assignment \n",
    "\n",
    "<font color='blue'> **Here's what you should remember from this notebook**:\n",
    "\n",
    "- Machine translation models can be used to map from one sequence to another. They are useful not just for translating human languages (like French->English) but also for tasks like date format translation. \n",
    "- An attention mechanism allows a network to focus on the most relevant parts of the input when producing a specific part of the output. \n",
    "- A network using an attention mechanism can translate from inputs of length $T_x$ to outputs of length $T_y$, where $T_x$ and $T_y$ can be different. \n",
    "- You can visualize attention weights $\\alpha^{\\langle t,t' \\rangle}$ to see what the network is paying attention to while generating each output."
   ]
  },
  {
   "cell_type": "markdown",
   "metadata": {},
   "source": [
    "Congratulations on finishing this assignment! You are now able to implement an attention model and use it to learn complex mappings from one sequence to another. "
   ]
  }
 ],
 "metadata": {
  "coursera": {
   "course_slug": "nlp-sequence-models",
   "graded_item_id": "n16CQ",
   "launcher_item_id": "npjGi"
  },
  "kernelspec": {
   "display_name": "Python 3",
   "language": "python",
   "name": "python3"
  },
  "language_info": {
   "codemirror_mode": {
    "name": "ipython",
    "version": 3
   },
   "file_extension": ".py",
   "mimetype": "text/x-python",
   "name": "python",
   "nbconvert_exporter": "python",
   "pygments_lexer": "ipython3",
   "version": "3.6.2"
  }
 },
 "nbformat": 4,
 "nbformat_minor": 2
}
